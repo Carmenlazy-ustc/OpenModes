{
 "metadata": {
  "name": "",
  "signature": ""
 },
 "nbformat": 3,
 "nbformat_minor": 0,
 "worksheets": [
  {
   "cells": [
    {
     "cell_type": "markdown",
     "metadata": {},
     "source": [
      "Example 5 - Coupling Coefficients of ASRRs\n",
      "------------------------------------------\n",
      "Two split rings are placed in a broadside coupled configuration. The scalar model of each resonator is augmented by additional coefficients representing the coupling between them.\n",
      "\n",
      "In [D. A. Powell et al, Phys. Rev. B 82, 155128 (2010)](http://dx.doi.org/10.1103/PhysRevB.82.155128) similar coefficients were calculated under the quasi-static approximation for a single mode only. Here the effects of retardation and radiation losses are included, as are the contributions of multiple modes of each ring."
     ]
    },
    {
     "cell_type": "code",
     "collapsed": false,
     "input": [
      "%connect_info"
     ],
     "language": "python",
     "metadata": {},
     "outputs": [],
     "prompt_number": ""
    },
    {
     "cell_type": "code",
     "collapsed": false,
     "input": [
      "%run plot_settings.ipy\n",
      "%matplotlib inline\n",
      "import numpy as np\n",
      "import matplotlib.pyplot as plt\n",
      "\n",
      "import openmodes\n",
      "import openmodes.basis\n",
      "from openmodes.constants import c\n",
      "import os.path as osp\n"
     ],
     "language": "python",
     "metadata": {},
     "outputs": [],
     "prompt_number": ""
    },
    {
     "cell_type": "code",
     "collapsed": false,
     "input": [
      "basis_class=openmodes.basis.LoopStarBasis\n",
      "sim = openmodes.Simulation(basis_class=basis_class, name=\"example5\", log_display_level=20)\n",
      "mesh1, mesh2 = sim.load_mesh(osp.join(openmodes.geometry_dir, \"asymmetric_ring.geo\"), mesh_tol=0.5e-3)\n",
      "\n",
      "ASRR = sim.place_part()\n",
      "\n",
      "ring1 = sim.place_part(mesh1, parent=ASRR)\n",
      "ring2 = sim.place_part(mesh2, parent=ASRR);"
     ],
     "language": "python",
     "metadata": {},
     "outputs": [],
     "prompt_number": ""
    },
    {
     "cell_type": "code",
     "collapsed": false,
     "input": [
      "from openmodes.visualise import plot_parts\n",
      "plot_parts(sim.parts, view_angles=(90, 0))"
     ],
     "language": "python",
     "metadata": {},
     "outputs": [],
     "prompt_number": ""
    },
    {
     "cell_type": "code",
     "collapsed": false,
     "input": [
      "num_modes = 4\n",
      "start_s = 2j*np.pi*10e9"
     ],
     "language": "python",
     "metadata": {},
     "outputs": [],
     "prompt_number": ""
    },
    {
     "cell_type": "code",
     "collapsed": false,
     "input": [
      "s_left, j_left = sim.singularities(start_s, num_modes, part=ring2)\n",
      "s_right, j_right = sim.singularities(start_s, num_modes, part=ring1)"
     ],
     "language": "python",
     "metadata": {},
     "outputs": [],
     "prompt_number": ""
    },
    {
     "cell_type": "code",
     "collapsed": false,
     "input": [
      "from openmodes.eig import eig_linearised\n",
      "Z = sim.impedance(start_s)[ASRR, ASRR]\n",
      "lin_s, lin_j = eig_linearised(Z, np.arange(num_modes))\n",
      "\n",
      "mode_s, mode_j = sim.singularities(start_s, num_modes, use_gram=True)\n",
      "scalar_models = sim.construct_models(mode_s, mode_j);"
     ],
     "language": "python",
     "metadata": {},
     "outputs": [],
     "prompt_number": ""
    },
    {
     "cell_type": "code",
     "collapsed": false,
     "input": [
      "\n",
      "freqs = np.linspace(4e9, 20e9, 101)\n",
      "#e_inc = np.array([1, 0, 0], dtype=np.complex128)\n",
      "#k_hat = np.array([0, 1, 0], dtype=np.complex128)\n",
      "k_hat = np.array([0, 0, 1.0], dtype=np.complex128)\n",
      "e_inc = np.array([1, 1, 0], dtype=np.complex128)\n",
      "\n",
      "\n",
      "extinction_sem = np.empty((len(freqs), num_modes), np.complex128)\n",
      "extinction_red_whole = np.empty((len(freqs), num_modes), np.complex128)\n",
      "extinction_red_parts = np.empty((len(freqs), num_modes*2), np.complex128)\n",
      "extinction_tot = np.empty(len(freqs), np.complex128)\n",
      "\n",
      "z_sem = np.empty((len(freqs), num_modes), np.complex128)\n",
      "z_eem = np.empty((len(freqs), num_modes), np.complex128)\n",
      "\n",
      "\n",
      "for freq_count, s in sim.iter_freqs(freqs):    \n",
      "    Z = sim.impedance(s)\n",
      "    V = sim.source_plane_wave(e_inc, k_hat*s/c)\n",
      "    \n",
      "    #lin_s, lin_j = eig_linearised(Z[ASRR, ASRR], np.arange(num_modes))\n",
      "    \n",
      "    z_mode, j_mode = Z.eigenmodes(num_modes=num_modes, use_gram=True, start_j=lin_j)\n",
      "    z_eem[freq_count] = z_mode\n",
      "    projection = [(ASRR, j_mode)]\n",
      "    impedance_red = Z.weight(projection)\n",
      "    V_red = V.weight(projection)\n",
      "    I_red_whole = impedance_red.solve(V_red)\n",
      "    extinction_red_whole[freq_count] = V_red.conj()*I_red_whole\n",
      "    #extinction_red_whole[freq_count] = V_red.conj()*V_red/z_mode\n",
      "\n",
      "    z_left, j_eem_left = Z.eigenmodes(part=ring2, num_modes=num_modes, start_j=j_left)\n",
      "    z_right, j_eem_right = Z.eigenmodes(part=ring1, num_modes=num_modes, start_j=j_right)\n",
      "\n",
      "    projection = [(ring2, j_eem_left), (ring1, j_eem_right)]\n",
      "    impedance_parts = Z.weight(projection)\n",
      "    V_red = V.weight(projection)\n",
      "    I_red_part = impedance_parts.solve(V_red)\n",
      "    extinction_red_parts[freq_count] = V_red.conj()*I_red_part\n",
      "    \n",
      "    extinction_tot[freq_count] = np.vdot(V, Z.solve(V))\n",
      "    \n",
      "    for mode in xrange(num_modes):\n",
      "        extinction_sem[freq_count, mode] = np.vdot(V, scalar_models[mode].solve(s, V))\n",
      "        z_sem[freq_count, mode] = scalar_models[mode].scalar_impedance(s)"
     ],
     "language": "python",
     "metadata": {},
     "outputs": [],
     "prompt_number": ""
    },
    {
     "cell_type": "code",
     "collapsed": false,
     "input": [
      "plt.figure(figsize=(12,4))\n",
      "plt.subplot(121)\n",
      "plt.plot(freqs*1e-9, extinction_tot.real)\n",
      "plt.plot(freqs*1e-9, np.sum(extinction_red_whole.real, axis=1), label='EEM whole')\n",
      "#plt.plot(freqs*1e-9, np.sum(extinction_red_parts.real, axis=1), '--', label='EEM parts')\n",
      "plt.plot(freqs*1e-9, np.sum(extinction_sem.real, axis=1), '-.', label='SEM whole')\n",
      "plt.xlim(freqs[0]*1e-9, freqs[-1]*1e-9)\n",
      "plt.legend(loc='upper right')\n",
      "plt.xlabel('f (GHz)')\n",
      "plt.subplot(122)\n",
      "plt.plot(freqs*1e-9, extinction_tot.imag)\n",
      "plt.plot(freqs*1e-9, np.sum(extinction_red_whole.imag, axis=1))\n",
      "#plt.plot(freqs*1e-9, np.sum(extinction_red_parts.imag, axis=1), '--')\n",
      "plt.plot(freqs*1e-9, np.sum(extinction_sem.imag, axis=1), '-.')\n",
      "plt.xlim(freqs[0]*1e-9, freqs[-1]*1e-9)\n",
      "plt.xlabel('f (GHz)')\n",
      "plt.suptitle('Total extinction for EEM of whole system and of separate parts and SEM');"
     ],
     "language": "python",
     "metadata": {},
     "outputs": [],
     "prompt_number": ""
    },
    {
     "cell_type": "code",
     "collapsed": false,
     "input": [
      "plt.figure(figsize=(12,4))\n",
      "plt.subplot(121)\n",
      "plt.plot(freqs*1e-9, extinction_red_whole.real)\n",
      "plt.plot(freqs*1e-9, extinction_sem.real, '--')\n",
      "plt.xlim(freqs[0]*1e-9, freqs[-1]*1e-9)\n",
      "plt.xlabel('f (GHz)')\n",
      "plt.subplot(122)\n",
      "plt.plot(freqs*1e-9, extinction_red_whole.imag)\n",
      "plt.plot(freqs*1e-9, extinction_sem.imag, '--')\n",
      "plt.xlim(freqs[0]*1e-9, freqs[-1]*1e-9)\n",
      "plt.xlabel('f (GHz)')\n",
      "plt.suptitle('Extinction for each EEM/SEM mode of the whole system');"
     ],
     "language": "python",
     "metadata": {},
     "outputs": [],
     "prompt_number": ""
    },
    {
     "cell_type": "code",
     "collapsed": false,
     "input": [
      "plt.figure(figsize=(12,4))\n",
      "plt.subplot(121)\n",
      "plt.plot(freqs*1e-9, z_eem.real)\n",
      "plt.plot(freqs*1e-9, z_sem.real, '--')\n",
      "plt.xlim(freqs[0]*1e-9, freqs[-1]*1e-9)\n",
      "plt.xlabel('f (GHz)')\n",
      "plt.subplot(122)\n",
      "plt.plot(freqs*1e-9, z_eem.imag)\n",
      "plt.plot(freqs*1e-9, z_sem.imag, '--')\n",
      "plt.xlim(freqs[0]*1e-9, freqs[-1]*1e-9)\n",
      "plt.xlabel('f (GHz)')\n",
      "plt.suptitle('Impedance for each EEM/SEM mode of the whole system');"
     ],
     "language": "python",
     "metadata": {},
     "outputs": [],
     "prompt_number": ""
    },
    {
     "cell_type": "code",
     "collapsed": false,
     "input": [
      "y_eem = 1/z_eem\n",
      "y_sem = 1/z_sem\n",
      "\n",
      "plt.figure(figsize=(12,4))\n",
      "plt.subplot(121)\n",
      "plt.plot(freqs*1e-9, y_eem.real)\n",
      "plt.plot(freqs*1e-9, y_sem.real, '--')\n",
      "plt.xlim(freqs[0]*1e-9, freqs[-1]*1e-9)\n",
      "plt.xlabel('f (GHz)')\n",
      "plt.subplot(122)\n",
      "plt.plot(freqs*1e-9, y_eem.imag)\n",
      "plt.plot(freqs*1e-9, y_sem.imag, '--')\n",
      "plt.xlim(freqs[0]*1e-9, freqs[-1]*1e-9)\n",
      "plt.xlabel('f (GHz)')\n",
      "plt.suptitle('Admittance for each EEM/SEM mode of the whole system');"
     ],
     "language": "python",
     "metadata": {},
     "outputs": [],
     "prompt_number": ""
    },
    {
     "cell_type": "code",
     "collapsed": false,
     "input": [
      "plt.figure(figsize=(12,4))\n",
      "plt.subplot(121)\n",
      "plt.plot(freqs*1e-9, extinction_sem.real)\n",
      "plt.xlim(freqs[0]*1e-9, freqs[-1]*1e-9)\n",
      "plt.xlabel('f (GHz)')\n",
      "plt.subplot(122)\n",
      "plt.plot(freqs*1e-9, extinction_sem.imag)\n",
      "plt.xlim(freqs[0]*1e-9, freqs[-1]*1e-9)\n",
      "plt.xlabel('f (GHz)')\n",
      "plt.suptitle('Extinction for each SEM mode');"
     ],
     "language": "python",
     "metadata": {},
     "outputs": [],
     "prompt_number": ""
    },
    {
     "cell_type": "code",
     "collapsed": false,
     "input": [
      "plt.figure(figsize=(12,4))\n",
      "plt.subplot(121)\n",
      "plt.plot(freqs*1e-9, extinction_red_parts.real)\n",
      "plt.xlim(freqs[0]*1e-9, freqs[-1]*1e-9)\n",
      "plt.xlabel('f (GHz)')\n",
      "plt.subplot(122)\n",
      "plt.plot(freqs*1e-9, extinction_red_parts.imag)\n",
      "plt.xlim(freqs[0]*1e-9, freqs[-1]*1e-9)\n",
      "plt.xlabel('f (GHz)')\n",
      "plt.suptitle('Extinction for each EEM mode of the parts');"
     ],
     "language": "python",
     "metadata": {},
     "outputs": [],
     "prompt_number": ""
    },
    {
     "cell_type": "code",
     "collapsed": false,
     "input": [
      "plt.pcolor(np.log10(abs(impedance_red[:])))\n",
      "plt.colorbar()"
     ],
     "language": "python",
     "metadata": {},
     "outputs": [],
     "prompt_number": ""
    },
    {
     "cell_type": "code",
     "collapsed": false,
     "input": [
      "Z_asrr = Z[ASRR, ASRR]\n",
      "G = Z_asrr.basis_o.gram_matrix\n",
      "orth = abs(mode_j.T.dot(G.dot(mode_j)))\n",
      "#orth = np.asarray(abs(j_mode.T.dot((j_mode))))"
     ],
     "language": "python",
     "metadata": {},
     "outputs": [],
     "prompt_number": ""
    },
    {
     "cell_type": "code",
     "collapsed": false,
     "input": [
      "plt.pcolor(abs(orth))\n",
      "plt.colorbar()\n",
      "abs(orth)"
     ],
     "language": "python",
     "metadata": {},
     "outputs": [],
     "prompt_number": ""
    },
    {
     "cell_type": "code",
     "collapsed": false,
     "input": [
      "print Z_asrr.basis_o.num_loops\n",
      "#plt.imshow(np.log10(abs(Z_asrr[:])))\n",
      "plt.imshow(np.log10(abs(G)))\n",
      "plt.colorbar()"
     ],
     "language": "python",
     "metadata": {},
     "outputs": [],
     "prompt_number": ""
    },
    {
     "cell_type": "code",
     "collapsed": false,
     "input": [
      "plt.semilogy(np.diag(abs(Z_asrr.L*s)))\n",
      "plt.semilogy(np.diag(abs(Z_asrr.S/s)))"
     ],
     "language": "python",
     "metadata": {},
     "outputs": [],
     "prompt_number": ""
    },
    {
     "cell_type": "code",
     "collapsed": false,
     "input": [
      "import scipy.linalg as la\n",
      "eigz =la.eigvals(Z_asrr[:], G)"
     ],
     "language": "python",
     "metadata": {},
     "outputs": [],
     "prompt_number": ""
    },
    {
     "cell_type": "code",
     "collapsed": false,
     "input": [
      "plt.loglog(abs(eigz.real), abs(eigz.imag), 'x')"
     ],
     "language": "python",
     "metadata": {},
     "outputs": [],
     "prompt_number": ""
    }
   ],
   "metadata": {}
  }
 ]
}