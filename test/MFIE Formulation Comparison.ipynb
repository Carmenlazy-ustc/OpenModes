{
 "metadata": {
  "name": "",
  "signature": ""
 },
 "nbformat": 3,
 "nbformat_minor": 0,
 "worksheets": [
  {
   "cells": [
    {
     "cell_type": "markdown",
     "metadata": {},
     "source": [
      "# Comparison of MFIE formulations\n",
      "\n",
      "## Gibson\n",
      "\n",
      "$$\\hat{\\mathbf{n}}(\\mathbf{r}) \\times \\mathbf{H}^{i}(\\mathbf{r}) = \\frac{\\mathbf{J}(\\mathbf{r})}{2} - \\hat{\\mathbf{n}}(\\mathbf{r}) \\times \\iint_{S-\\delta S}\\mathbf{J}(\\mathbf{r'}) \\times \\nabla'G(r,r')\\mathrm{d}\\mathbf{r'}$$\n",
      "\n",
      "## Yla-Oijala and Taskinen 2003\n",
      "$$\\left[-H^{inc}(r) = \\iint_S \\nabla G \\times J(r')dr' + \\frac{1}{2}n(r) \\times J(r)\\right]_\\mathrm{tan}$$\n",
      "\n",
      "Note the following equalities\n",
      "\n",
      "$$f(r)_\\mathrm{tan} = -\\hat{\\mathbf{n}} \\times \\hat{\\mathbf{n}} \\times f(r)$$\n",
      "\n",
      "$$n \\times f = [n \\times f]_\\mathrm{tan}$$\n",
      "\n",
      "$$\\nabla G = -\\nabla' G$$\n",
      "\n",
      "$$a \\times b = -b \\times a$$\n",
      "\n",
      "Which taken together make the above two expressions equal\n",
      "\n",
      "## Asvestas 2013\n"
     ]
    }
   ],
   "metadata": {}
  }
 ]
}