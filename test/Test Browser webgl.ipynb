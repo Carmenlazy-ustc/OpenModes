{
 "metadata": {
  "name": "",
  "signature": "sha256:35056d70c53572d9d8d4fd32d6e5b370ebda3e6f538e355057562d27268a176d"
 },
 "nbformat": 3,
 "nbformat_minor": 0,
 "worksheets": [
  {
   "cells": [
    {
     "cell_type": "code",
     "collapsed": false,
     "input": [
      "# allow plots within the notebook\n",
      "#%run plot_settings.ipy\n",
      "%matplotlib inline\n",
      "import matplotlib.pyplot as plt\n",
      "\n",
      "# the numpy library contains useful mathematical functions\n",
      "import numpy as np\n",
      "\n",
      "# import useful python libraries\n",
      "import os.path as osp\n",
      "\n",
      "# import the openmodes packages\n",
      "import openmodes\n",
      "from openmodes.visualise import plot_parts\n",
      "#from openmodes.constants import eta_0\n",
      "from openmodes.sources import PlaneWaveSource\n",
      "\n",
      "from StringIO import StringIO\n",
      "from IPython.display import Javascript, HTML\n",
      "import json\n",
      "import uuid\n",
      "from jinja2 import Template"
     ],
     "language": "python",
     "metadata": {},
     "outputs": []
    },
    {
     "cell_type": "code",
     "collapsed": false,
     "input": [
      "sim = openmodes.Simulation(name='Test browser vtk')"
     ],
     "language": "python",
     "metadata": {},
     "outputs": []
    },
    {
     "cell_type": "code",
     "collapsed": false,
     "input": [
      "filename = osp.join(openmodes.geometry_dir, \"SRR.geo\")\n",
      "mesh_tol = 0.5e-3\n",
      "outer_radius = 4e-3\n",
      "srr = sim.load_mesh(filename, mesh_tol, parameters={'inner_radius': 2.5e-3, 'outer_radius': outer_radius})"
     ],
     "language": "python",
     "metadata": {},
     "outputs": []
    },
    {
     "cell_type": "code",
     "collapsed": false,
     "input": [
      "ring1 = sim.place_part(srr)\n",
      "ring2 = sim.place_part(srr)\n",
      "ring2.rotate(axis = [0, 0, 1], angle = 180)\n",
      "ring2.translate([0, 0, 2e-3])"
     ],
     "language": "python",
     "metadata": {},
     "outputs": []
    },
    {
     "cell_type": "code",
     "collapsed": false,
     "input": [
      "plot_parts(sim.parts, view_angles=(50, 70))"
     ],
     "language": "python",
     "metadata": {},
     "outputs": []
    },
    {
     "cell_type": "code",
     "collapsed": false,
     "input": [
      "# perform a simple plane wave excitation\n",
      "\n",
      "pw = PlaneWaveSource([0, 1, 0], [1, 0, 0])\n",
      "    \n",
      "s = 2j*np.pi*4e9\n",
      "\n",
      "Z = sim.impedance(s)\n",
      "V = sim.source_vector(pw, s)\n",
      "I = Z.solve(V)"
     ],
     "language": "python",
     "metadata": {},
     "outputs": []
    },
    {
     "cell_type": "code",
     "collapsed": false,
     "input": [
      "# combine the meshes\n",
      "from openmodes.mesh import combine_mesh\n",
      "from openmodes.visualise import preprocess\n",
      "\n",
      "parts_list, charges, currents, centres = preprocess(sim.parts, I, sim.basis_container,\n",
      "                                                    compress_scalars=5, compress_separately=True)\n",
      "\n",
      "meshes = [part.mesh for part in parts_list]\n",
      "nodes = [part.nodes for part in parts_list]\n",
      "full_mesh = combine_mesh(meshes, nodes)\n",
      "charges = np.array(charges).flatten()\n",
      "\n",
      "# scale all nodes so that the maximum size is known\n",
      "full_mesh.nodes = full_mesh.nodes/ full_mesh.max_distance * 100\n",
      "#charges /= max(abs(charges))\n",
      "\n",
      "#plt.figure()\n",
      "#plt.plot(np.sort(charges.real))\n",
      "#plt.plot(np.sort(charges.imag))\n",
      "#plt.show()"
     ],
     "language": "python",
     "metadata": {},
     "outputs": []
    },
    {
     "cell_type": "markdown",
     "metadata": {},
     "source": [
      "TODO: Create a submodule\n",
      "\n",
      "http://git-scm.com/book/en/v2/Git-Tools-Submodules"
     ]
    },
    {
     "cell_type": "code",
     "collapsed": false,
     "input": [
      "# inject javascript libraries into output\n",
      "library_javascript = StringIO()\n",
      "\n",
      "library_javascript.write(\"\"\"\n",
      "<script type=\"text/javascript\">\n",
      "/* Beginning of javascript injected by OpenModes */\n",
      "var openmodes_javascript_injected = true;\n",
      "\"\"\")\n",
      "\n",
      "js_root = r\"C:\\Users\\dap124\\Documents\\external_code\\three.js\"\n",
      "\n",
      "js_libraries = (r\"build\\three.min.js\",\n",
      "                r\"examples\\js\\controls\\OrbitControls.js\",\n",
      "                r\"examples\\js\\controls\\TrackballControls.js\",\n",
      "                r\"examples\\js\\math\\Lut.js\"\n",
      "                )\n",
      "\n",
      "for library in js_libraries:\n",
      "    with open(osp.join(js_root, library)) as infile:\n",
      "        library_javascript.write(infile.read())\n",
      "\n",
      "library_javascript.write(\"/* End of javascript injected by OpenModes */\\n</script>\\n\")\n",
      "\n",
      "HTML(library_javascript.getvalue())"
     ],
     "language": "python",
     "metadata": {},
     "outputs": []
    },
    {
     "cell_type": "code",
     "collapsed": false,
     "input": [
      "# generate a javascript representation of the object\n",
      "geometry_name = \"geometry_\"+str(uuid.uuid4()).replace('-', '')\n",
      "geometry_javascript = StringIO()\n",
      "\n",
      "geometry_javascript.write(\"var %s = \" % geometry_name)\n",
      "\n",
      "json.dump({'nodes': full_mesh.nodes.tolist(),\n",
      "           'triangles': full_mesh.polygons.tolist(),\n",
      "           'charge': {'real': charges.real.tolist(),\n",
      "                      'imag': charges.imag.tolist(),\n",
      "                      'abs':  abs(charges).tolist(),\n",
      "                      'phase': np.angle(charges, deg=True).tolist()\n",
      "                      }},\n",
      "          geometry_javascript)\n",
      "\n",
      "geometry_javascript.write(';')\n",
      "\n",
      "#print geometry_javascript.getvalue()\n",
      "#Javascript(geometry_javascript.getvalue())\n"
     ],
     "language": "python",
     "metadata": {},
     "outputs": []
    },
    {
     "cell_type": "code",
     "collapsed": false,
     "input": [
      "# TODO: ensure that IDs are unique (for multiple figures in the same file)\n",
      "# prevent multiple definitions of controls??\n",
      "# colour lookup table\n",
      "\n",
      "html_source = \"\"\"\n",
      "<script type=\"text/javascript\">\n",
      "function openmodes_three_plot(three_container, json_geo, width, height, initial_wireframe, format_radio_name) {\n",
      "    var renderer = new THREE.WebGLRenderer({ antialias: true });\n",
      "    renderer.setSize(width, height);\n",
      "\n",
      "    var canvas = renderer.domElement;\n",
      "    three_container.appendChild(canvas);\n",
      "    var scene = new THREE.Scene(),\n",
      "    material = new THREE.MeshBasicMaterial({color: 0xffffff, side: THREE.DoubleSide, \n",
      "                                                 wireframe: initial_wireframe, vertexColors: THREE.FaceColors\n",
      "                                                }),\n",
      "    lut = {};\n",
      "\n",
      "    // lookup table for magnitude\n",
      "    lut.abs = new THREE.Lut('cooltowarm', 100);\n",
      "    var max_abs = Math.max.apply(Math, json_geo.charge.abs);\n",
      "    lut.abs.setMax(max_abs);\n",
      "    lut.abs.setMin(0);\n",
      "\n",
      "    // lookup table for real and imaginary parts\n",
      "    lut.real = new THREE.Lut('cooltowarm', 100);\n",
      "    lut.real.setMax(max_abs);\n",
      "    lut.real.setMin(-max_abs);\n",
      "    lut.imag = lut.real;\n",
      "\n",
      "    // lookup table for phase\n",
      "    lut.phase = new THREE.Lut('rainbow', 100);\n",
      "    lut.phase.setMax(180);\n",
      "    lut.phase.setMin(-180);\n",
      "\n",
      "    // add the legend\n",
      "    //var legend = lut.real.setLegendOn({'dimensions': {'width' : 10, 'height' : 50}});\n",
      "    //scene.add(legend);\n",
      "\n",
      "    var geometry = new THREE.Geometry();\n",
      "    geometry.dynamic = true;\n",
      "    var i, face;\n",
      "    \n",
      "    // add the points\n",
      "    for (i = 0; i < json_geo.nodes.length; i++) { \n",
      "        geometry.vertices.push(new THREE.Vector3(json_geo.nodes[i][0], json_geo.nodes[i][1], json_geo.nodes[i][2]));\n",
      "    }\n",
      "\n",
      "    var faces = {}, prop;\n",
      "    // loop through all the defined data\n",
      "    for (prop in lut) {\n",
      "        // ignore superfluous metadata\n",
      "        if (!lut.hasOwnProperty(prop)) continue;\n",
      "\n",
      "        faces[prop] = [];\n",
      "\n",
      "        // add the faces, working out the colour of each from the lookup table\n",
      "        for (i = 0; i < json_geo.triangles.length; i++) {\n",
      "            face = new THREE.Face3(json_geo.triangles[i][0], json_geo.triangles[i][1], json_geo.triangles[i][2]);\n",
      "            face.color = lut[prop].getColor(json_geo.charge[prop][i]);\n",
      "            faces[prop].push(face);\n",
      "        }\n",
      "    }\n",
      "\n",
      "    // the function to set the format\n",
      "    function setFormat(format) {\n",
      "        geometry.faces = faces[format];\n",
      "        geometry.colorsNeedUpdate = true;\n",
      "    }\n",
      "    \n",
      "    var radios = document.getElementsByName(format_radio_name);\n",
      "    var format = [];\n",
      "\n",
      "    for (var i = 0, length = radios.length; i < length; i++) {\n",
      "        format[i] = radios[i].value;\n",
      "        radios[i].addEventListener(\"click\", function() { setFormat(this.value); });\n",
      "    }\n",
      "    \n",
      "    setFormat(\"real\");\n",
      "\n",
      "    var mesh = new THREE.Mesh(geometry, material);\n",
      "    scene.add(mesh);\n",
      "\n",
      "    var camera_fov = 20; // camera field of view, in degrees\n",
      "    var camera = new THREE.PerspectiveCamera(camera_fov, canvas.width / canvas.height, 1, 1000);\n",
      "    camera.position.z = 400;\n",
      "\n",
      "    var controls = new THREE.OrbitControls( camera, canvas );\n",
      "    controls.noKeys = true;\n",
      "\n",
      "    // reset button\n",
      "    three_container.getElementsByClassName(\"reset_button\")[0].addEventListener(\"click\", function () { controls.reset(); });\n",
      "\n",
      "    // checkbox for wireframe\n",
      "    wf = three_container.getElementsByClassName(\"wireframe_checkbox\")[0];\n",
      "    wf.checked = material.wireframe;\n",
      "    wf.addEventListener(\"change\", function () { material.wireframe = wf.checked; });\n",
      "\n",
      "    function animate() {\n",
      "        renderer.render(scene, camera);\n",
      "        controls.update();\n",
      "\n",
      "        requestAnimationFrame(animate);\n",
      "    }\n",
      "    animate();\n",
      "}\n",
      "</script>\n",
      "\n",
      "<div id=\"container_{{ geometry_name }}\">\n",
      "    <button class=\"reset_button\" type=\"button\">Reset view</button>\n",
      "    <input class=\"wireframe_checkbox\" type=\"checkbox\">Wireframe</input>\n",
      "    <input type=\"radio\" value=\"real\"  name=\"format_{{ geometry_name}}\" checked=\"checked\">Real</input>\n",
      "    <input type=\"radio\" value=\"imag\"  name=\"format_{{ geometry_name}}\">Imag</input>\n",
      "    <input type=\"radio\" value=\"abs\"   name=\"format_{{ geometry_name}}\">Magnitude</input>\n",
      "    <input type=\"radio\" value=\"phase\" name=\"format_{{ geometry_name}}\">Phase</input>\n",
      "</div>\n",
      "\n",
      "<script type=\"text/javascript\">\n",
      "\n",
      "(function(){\n",
      "    var three_container = document.getElementById(\"container_{{ geometry_name}}\");\n",
      "\n",
      "    if (typeof openmodes_javascript_injected === 'undefined') {\n",
      "        // required javascript has not been injected, so just give an error message\n",
      "        var para = document.createElement(\"P\");\n",
      "        var t = document.createTextNode(\"ERROR: Please intialise OpenModes javascript output first!\");\n",
      "        para.appendChild(t);\n",
      "        three_container.appendChild(para);\n",
      "        return;\n",
      "    }\n",
      "\n",
      "    {{ geometry_javascript.getvalue() }}\n",
      "\n",
      "    openmodes_three_plot(three_container, {{ geometry_name }}, {{ canvas_width }}, {{ canvas_height }},\n",
      "                        {{ initial_wireframe|lower }}, \"format_{{ geometry_name}}\");\n",
      "})();\n",
      "</script>\n",
      "\"\"\"\n",
      "html_generated =  Template(html_source).render({'geometry_javascript' : geometry_javascript,\n",
      "                                                'geometry_name' : geometry_name,\n",
      "                                                'canvas_width' : 700,\n",
      "                                                'canvas_height' : 500,\n",
      "                                                'initial_wireframe' : False})\n",
      "\n",
      "HTML(html_generated)\n",
      "#print html_generated\n",
      "#with open(\"temp.html\", \"wt\") as outfile:\n",
      "#    outfile.write(html_generated)"
     ],
     "language": "python",
     "metadata": {},
     "outputs": []
    },
    {
     "cell_type": "code",
     "collapsed": false,
     "input": [],
     "language": "python",
     "metadata": {},
     "outputs": []
    }
   ],
   "metadata": {}
  }
 ]
}