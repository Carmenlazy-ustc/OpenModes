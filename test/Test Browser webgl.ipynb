{
 "metadata": {
  "name": "",
  "signature": "sha256:2b2235fd2e35d6ff80e8fa337c60dbef43790fefb2135857839cc01969c92227"
 },
 "nbformat": 3,
 "nbformat_minor": 0,
 "worksheets": [
  {
   "cells": [
    {
     "cell_type": "code",
     "collapsed": false,
     "input": [
      "# allow plots within the notebook\n",
      "#%run plot_settings.ipy\n",
      "%matplotlib inline\n",
      "import matplotlib.pyplot as plt\n",
      "\n",
      "# the numpy library contains useful mathematical functions\n",
      "import numpy as np\n",
      "\n",
      "# import useful python libraries\n",
      "import os.path as osp\n",
      "\n",
      "# import the openmodes packages\n",
      "import openmodes\n",
      "from openmodes.visualise import plot_parts\n",
      "#from openmodes.constants import eta_0\n",
      "from openmodes.sources import PlaneWaveSource\n",
      "\n",
      "from StringIO import StringIO\n",
      "from IPython.display import Javascript, HTML\n",
      "import json\n",
      "import uuid\n",
      "from jinja2 import Template"
     ],
     "language": "python",
     "metadata": {},
     "outputs": []
    },
    {
     "cell_type": "code",
     "collapsed": false,
     "input": [
      "sim = openmodes.Simulation(name='Test browser vtk')"
     ],
     "language": "python",
     "metadata": {},
     "outputs": []
    },
    {
     "cell_type": "code",
     "collapsed": false,
     "input": [
      "filename = osp.join(openmodes.geometry_dir, \"SRR.geo\")\n",
      "mesh_tol = 1e-3\n",
      "outer_radius = 4e-3\n",
      "srr = sim.load_mesh(filename, mesh_tol, parameters={'inner_radius': 2.5e-3, 'outer_radius': outer_radius})"
     ],
     "language": "python",
     "metadata": {},
     "outputs": []
    },
    {
     "cell_type": "code",
     "collapsed": false,
     "input": [
      "ring1 = sim.place_part(srr)\n",
      "ring2 = sim.place_part(srr)\n",
      "ring2.rotate(axis = [0, 0, 1], angle = 180)\n",
      "ring2.translate([0, 0, 2e-3])"
     ],
     "language": "python",
     "metadata": {},
     "outputs": []
    },
    {
     "cell_type": "code",
     "collapsed": false,
     "input": [
      "plot_parts(sim.parts, view_angles=(50, 70))"
     ],
     "language": "python",
     "metadata": {},
     "outputs": []
    },
    {
     "cell_type": "code",
     "collapsed": false,
     "input": [
      "# perform a simple plane wave excitation\n",
      "\n",
      "pw = PlaneWaveSource([0, 1, 0], [1, 0, 0])\n",
      "    \n",
      "s = 2j*np.pi*4e9\n",
      "\n",
      "Z = sim.impedance(s)\n",
      "V = sim.source_vector(pw, s)\n",
      "I = Z.solve(V)"
     ],
     "language": "python",
     "metadata": {},
     "outputs": []
    },
    {
     "cell_type": "code",
     "collapsed": false,
     "input": [
      "# combine the meshes\n",
      "from openmodes.mesh import combine_mesh\n",
      "\n",
      "parts_list = []\n",
      "charges = []\n",
      "currents = []\n",
      "centres = []\n",
      "\n",
      "for part_num, part in enumerate(sim.parts.iter_single()):\n",
      "    parts_list.append(part)\n",
      "    \n",
      "    #try:\n",
      "    I_part = I[part]\n",
      "    basis = sim.basis_container[part]\n",
      "\n",
      "    centre, current, charge = basis.interpolate_function(I_part,\n",
      "                                                    return_scalar=True,\n",
      "                                                    nodes=part.nodes)\n",
      "    charges.append(charge)\n",
      "    currents.append(current)\n",
      "    centres.append(centre)\n",
      "    #except NameError:\n",
      "    #    pass\n",
      "\n",
      "meshes = [part.mesh for part in parts_list]\n",
      "nodes = [part.nodes for part in parts_list]\n",
      "full_mesh = combine_mesh(meshes, nodes)\n",
      "charges = np.array(charges).flatten()\n",
      "\n",
      "# scale all nodes so that the maximum size is known\n",
      "full_mesh.nodes = full_mesh.nodes/ full_mesh.max_distance * 100\n",
      "charges /= max(abs(charges))"
     ],
     "language": "python",
     "metadata": {},
     "outputs": []
    },
    {
     "cell_type": "markdown",
     "metadata": {},
     "source": [
      "TODO: Create a submodule\n",
      "\n",
      "http://git-scm.com/book/en/v2/Git-Tools-Submodules"
     ]
    },
    {
     "cell_type": "code",
     "collapsed": false,
     "input": [
      "# inject javascript libraries into output\n",
      "\n",
      "library_javascript = StringIO()\n",
      "\n",
      "library_javascript.write(\"\"\"\n",
      "<script type=\"text/javascript\">\n",
      "/* Beginning of javascript injected by OpenModes */\n",
      "var openmodes_javascript_injected = true;\n",
      "\"\"\")\n",
      "\n",
      "js_root = r\"C:\\Users\\dap124\\Documents\\external_code\\three.js\"\n",
      "\n",
      "js_libraries = (r\"build\\three.min.js\",\n",
      "                r\"examples\\js\\controls\\OrbitControls.js\",\n",
      "                r\"examples\\js\\math\\Lut.js\"\n",
      "                )\n",
      "\n",
      "for library in js_libraries:\n",
      "    with open(osp.join(js_root, library)) as infile:\n",
      "        library_javascript.write(infile.read())\n",
      "\n",
      "\n",
      "library_javascript.write(\"/* End of javascript injected by OpenModes */\\n</script>\\n\")\n",
      "\n",
      "HTML(library_javascript.getvalue())"
     ],
     "language": "python",
     "metadata": {},
     "outputs": []
    },
    {
     "cell_type": "code",
     "collapsed": false,
     "input": [
      "# generate a javascript representation of the object\n",
      "geometry_name = \"geometry_\"+str(uuid.uuid4()).replace('-', '')\n",
      "geometry_javascript = StringIO()\n",
      "\n",
      "geometry_javascript.write(\"var %s = \" % geometry_name)\n",
      "\n",
      "json.dump({'nodes': full_mesh.nodes.tolist(),\n",
      "           'triangles': full_mesh.polygons.tolist(),\n",
      "           'charge_real': charges.real.tolist()},\n",
      "          geometry_javascript)\n",
      "\n",
      "geometry_javascript.write(';')\n",
      "\n",
      "#print geometry_javascript.getvalue()\n",
      "#Javascript(geometry_javascript.getvalue())\n"
     ],
     "language": "python",
     "metadata": {},
     "outputs": []
    },
    {
     "cell_type": "code",
     "collapsed": false,
     "input": [
      "# TODO: ensure that IDs are unique (for multiple figures in the same file)\n",
      "# prevent multiple definitions of controls??\n",
      "# colour lookup table\n",
      "\n",
      "html_source = \"\"\"\n",
      "<button id=\"reset_{{ geometry_name }}\" type=\"button\">Reset</button>\n",
      "<input id=\"wireframe_{{ geometry_name }}\" type=\"checkbox\">Wireframe</input>\n",
      "\n",
      "<div id=\"container_{{ geometry_name }}\"/>\n",
      "\n",
      "<script type=\"text/javascript\">\n",
      "\n",
      "{{ geometry_javascript.getvalue() }}\n",
      "\n",
      "\n",
      "(function() {\n",
      "    var renderer = new THREE.WebGLRenderer({ antialias: true });\n",
      "    renderer.setSize({{ canvas_width }} , {{ canvas_height }})\n",
      "\n",
      "    var canvas = renderer.domElement;\n",
      "    var three_container = document.getElementById(\"container_{{ geometry_name}}\");\n",
      "    three_container.appendChild(canvas);\n",
      "    var scene = new THREE.Scene();\n",
      "    var material = new THREE.MeshBasicMaterial({ color:0xffffff, side: THREE.DoubleSide, \n",
      "                                                 wireframe: false, vertexColors: THREE.FaceColors\n",
      "                                                });\n",
      "\n",
      "    var lut = new THREE.Lut( 'rainbow', 200 );\n",
      "\n",
      "    lut.setMax(1);\n",
      "    lut.setMin(-1);\n",
      "\n",
      "\n",
      "    var geometry = new THREE.Geometry();\n",
      "    var i;\n",
      "    var points = {{ geometry_name }}.nodes;\n",
      "    var tri = {{ geometry_name }}.triangles;\n",
      "\n",
      "    for (i = 0; i < points.length; i++) { \n",
      "        geometry.vertices.push(new THREE.Vector3(points[i][0], points[i][1], points[i][2]));\n",
      "    }\n",
      "\n",
      "    for (i = 0; i < tri.length; i++) { \n",
      "        geometry.faces.push(new THREE.Face3( tri[i][0], tri[i][1], tri[i][2]));\n",
      "    }\n",
      "\n",
      "    var mesh = new THREE.Mesh(geometry, material);\n",
      "    scene.add(mesh);\n",
      "\n",
      "    var camera_fov = 20; // camera field of view, in degrees\n",
      "    var camera = new THREE.PerspectiveCamera(camera_fov, canvas.width / canvas.height, 1e-8, 1000);\n",
      "    camera.position.z = 400\n",
      "\n",
      "    var controls = new THREE.OrbitControls( camera, canvas );\n",
      "    controls.noKeys = true;\n",
      "\n",
      "    function animate() {\n",
      "        renderer.render(scene, camera);\n",
      "        controls.update();\n",
      "\n",
      "        requestAnimationFrame(animate);\n",
      "    }\n",
      "\n",
      "    document.getElementById(\"reset_{{ geometry_name }}\").addEventListener(\"click\", function () { controls.reset(); });\n",
      "    wf = document.getElementById(\"wireframe_{{ geometry_name }}\")\n",
      "    wf.addEventListener(\"change\", function () { material.wireframe = wf.checked; });\n",
      "\n",
      "    animate();\n",
      "})();\n",
      "</script>\n",
      "\"\"\"\n",
      "html_generated =  Template(html_source).render({'geometry_javascript' : geometry_javascript,\n",
      "                                                'geometry_name' : geometry_name,\n",
      "                                                #'controls_js' : controls_js,\n",
      "                                                'canvas_width' : 500,\n",
      "                                                'canvas_height' : 500})\n",
      "\n",
      "HTML(html_generated)\n",
      "#print html_source"
     ],
     "language": "python",
     "metadata": {},
     "outputs": []
    },
    {
     "cell_type": "code",
     "collapsed": false,
     "input": [],
     "language": "python",
     "metadata": {},
     "outputs": []
    }
   ],
   "metadata": {}
  }
 ]
}