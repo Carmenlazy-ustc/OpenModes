{
 "metadata": {
  "name": "",
  "signature": "sha256:da3b1e30d954dd1e8f22f234246f6830366d7eb7e0f968806be032b7cade02dd"
 },
 "nbformat": 3,
 "nbformat_minor": 0,
 "worksheets": [
  {
   "cells": [
    {
     "cell_type": "code",
     "collapsed": false,
     "input": [
      "# allow plots within the notebook\n",
      "#%run plot_settings.ipy\n",
      "%matplotlib inline\n",
      "import matplotlib.pyplot as plt\n",
      "\n",
      "# the numpy library contains useful mathematical functions\n",
      "import numpy as np\n",
      "\n",
      "# import useful python libraries\n",
      "import os.path as osp\n",
      "\n",
      "# import the openmodes packages\n",
      "import openmodes\n",
      "from openmodes.visualise import plot_parts\n",
      "#from openmodes.constants import eta_0\n",
      "from openmodes.sources import PlaneWaveSource"
     ],
     "language": "python",
     "metadata": {},
     "outputs": []
    },
    {
     "cell_type": "code",
     "collapsed": false,
     "input": [
      "sim = openmodes.Simulation(name='Test browser webgl')"
     ],
     "language": "python",
     "metadata": {},
     "outputs": []
    },
    {
     "cell_type": "code",
     "collapsed": false,
     "input": [
      "filename = osp.join(openmodes.geometry_dir, \"SRR.geo\")\n",
      "mesh_tol = 0.5e-3\n",
      "outer_radius = 4e-3\n",
      "srr = sim.load_mesh(filename, mesh_tol, parameters={'inner_radius': 2.5e-3, 'outer_radius': outer_radius})\n",
      "ring1 = sim.place_part(srr)\n",
      "ring2 = sim.place_part(srr)\n",
      "ring2.rotate(axis = [0, 0, 1], angle = 180)\n",
      "ring2.translate([0, 0, 2e-3])"
     ],
     "language": "python",
     "metadata": {},
     "outputs": []
    },
    {
     "cell_type": "markdown",
     "metadata": {},
     "source": [
      "filename = osp.join(openmodes.geometry_dir, \"sphere.geo\")\n",
      "radius = 4e-3\n",
      "mesh_tol = 0.7e-3\n",
      "sphere = sim.load_mesh(filename, mesh_tol, parameters={'radius': radius})\n",
      "sim.place_part(sphere)"
     ]
    },
    {
     "cell_type": "code",
     "collapsed": false,
     "input": [
      "# perform a simple plane wave excitation\n",
      "\n",
      "pw = PlaneWaveSource([0, 1, 0], [1, 0, 0])\n",
      "    \n",
      "s = 2j*np.pi*4e9\n",
      "\n",
      "Z = sim.impedance(s)\n",
      "V = sim.source_vector(pw, s)\n",
      "I = Z.solve(V)"
     ],
     "language": "python",
     "metadata": {},
     "outputs": []
    },
    {
     "cell_type": "code",
     "collapsed": false,
     "input": [
      "from openmodes.ipython import init_3d\n",
      "init_3d()"
     ],
     "language": "python",
     "metadata": {},
     "outputs": []
    },
    {
     "cell_type": "code",
     "collapsed": false,
     "input": [
      "sim.plot_3d(solution=I, compress_scalars=5)"
     ],
     "language": "python",
     "metadata": {},
     "outputs": []
    },
    {
     "cell_type": "code",
     "collapsed": false,
     "input": [
      "# create a vtk file for comparison purposes\n",
      "sim.plot_3d(solution=I, compress_scalars=5, output_format='vtk', filename='test.vtp')"
     ],
     "language": "python",
     "metadata": {},
     "outputs": []
    }
   ],
   "metadata": {}
  }
 ]
}