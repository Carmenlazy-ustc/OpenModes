{
 "metadata": {
  "name": ""
 },
 "nbformat": 3,
 "nbformat_minor": 0,
 "worksheets": [
  {
   "cells": [
    {
     "cell_type": "code",
     "collapsed": false,
     "input": [
      "%matplotlib inline\n",
      "import numpy as np\n",
      "import matplotlib.pyplot as plt"
     ],
     "language": "python",
     "metadata": {},
     "outputs": [],
     "prompt_number": ""
    },
    {
     "cell_type": "code",
     "collapsed": false,
     "input": [
      "import os.path as osp\n",
      "\n",
      "import numpy as np\n",
      "import matplotlib.pyplot as plt\n",
      "\n",
      "import openmodes\n",
      "import openmodes.basis\n",
      "from openmodes.constants import c\n",
      "from openmodes.model import ModelPolyInteraction"
     ],
     "language": "python",
     "metadata": {},
     "outputs": [],
     "prompt_number": ""
    },
    {
     "cell_type": "code",
     "collapsed": false,
     "input": [
      "  \n",
      "mesh_tol = 1e-3\n",
      "    \n",
      "sim = openmodes.Simulation(name='Test DSRR', \n",
      "                           basis_class=openmodes.basis.LoopStarBasis,\n",
      "                           log_display_level=20)\n",
      "\n",
      "srr = sim.place_part()\n",
      "\n",
      "srr_inner_mesh = sim.load_mesh(osp.join(openmodes.geometry_dir, 'SRR.geo'),\n",
      "                     mesh_tol=mesh_tol, parameters={'inner_radius' : 2.5e-3,\n",
      "                                                    'outer_radius' : 4e-3})\n",
      "srr_inner = sim.place_part(srr_inner_mesh, parent=srr)\n",
      "\n",
      "srr_outer_mesh = sim.load_mesh(osp.join(openmodes.geometry_dir, 'SRR.geo'),\n",
      "                     mesh_tol=mesh_tol, parameters={'inner_radius' : 4.5e-3,\n",
      "                                                    'outer_radius' : 6e-3})\n",
      "srr_outer = sim.place_part(srr_outer_mesh, parent=srr)\n",
      "srr_outer.rotate([0, 0, 1], 180)\n",
      "\n",
      "\n"
     ],
     "language": "python",
     "metadata": {},
     "outputs": [],
     "prompt_number": ""
    },
    {
     "cell_type": "code",
     "collapsed": false,
     "input": [
      "start_s = 2j*np.pi*1e9\n",
      "\n",
      "#modes = [0, 2] #3\n",
      "modes = np.arange(0, 10, 2)\n",
      "num_modes = len(modes)\n",
      "s_inner, current_inner = sim.singularities(start_s, modes, srr_inner)\n",
      "s_outer, current_outer = sim.singularities(start_s, modes, srr_outer)\n",
      "\n",
      "#s_full, current_full = sim.singularities(start_s, 3, srr)\n",
      "\n",
      "parts_modes = [(srr_inner, s_inner, current_inner),\n",
      "               (srr_outer, s_outer, current_outer)]\n",
      "\n",
      "poly_order = 2\n",
      "s_max = 2j*np.pi*5e9\n",
      "\n",
      "model = ModelPolyInteraction(sim.operator, parts_modes, poly_order, s_max,\n",
      "                             logger=sim.logger)\n"
     ],
     "language": "python",
     "metadata": {},
     "outputs": [],
     "prompt_number": ""
    },
    {
     "cell_type": "code",
     "collapsed": false,
     "input": [
      "\n",
      "projection_sem = [(srr_inner, current_inner),\n",
      "                  (srr_outer, current_outer)]\n",
      "\n",
      "k_hat = np.array([1, 0, 0])\n",
      "e_inc = np.array([0, 1, 0])\n",
      "\n",
      "num_freqs = 200\n",
      "freqs = np.linspace(3.2e9, 4.5e9, num_freqs)\n",
      "\n",
      "extinction = np.empty(num_freqs, np.complex128)\n",
      "extinction_red = np.empty(num_freqs, np.complex128)\n",
      "extinction_sem = np.empty(num_freqs, np.complex128)\n",
      "\n",
      "z_sem = np.empty((num_freqs, num_modes), np.complex128)\n",
      "z_eem = np.empty((num_freqs, num_modes), np.complex128)\n",
      "\n",
      "for freq_count, s in sim.iter_freqs(freqs):\n",
      "    Z = sim.impedance(s)\n",
      "    jk = s/c\n",
      "    V = sim.source_plane_wave(e_inc, jk*k_hat)\n",
      "    I = Z.solve(V)\n",
      "    extinction[freq_count] = np.vdot(V, I)\n",
      "\n",
      "    z_inner, modes_inner = Z.eigenmodes(srr_inner, start_j=current_inner)\n",
      "    z_outer, modes_outer = Z.eigenmodes(srr_outer, start_j=current_outer)\n",
      "    projection = [(srr_inner, modes_inner), (srr_outer, modes_outer)]\n",
      "    \n",
      "    #z_full, modes_full = Z.eigenmodes(srr, start_j=current_full)\n",
      "    #projection = [(srr, current_full)]\n",
      "    \n",
      "    Z_red = Z.weight(projection)\n",
      "    V_red = V.weight(projection)\n",
      "    I_red = Z_red.solve(V_red)\n",
      "    extinction_red[freq_count] = np.vdot(V_red, I_red)\n",
      "    #extinction_red[freq_count] = np.vdot(V.project(projection), I.project(projection))\n",
      "    \n",
      "    V_sem = V.weight(projection_sem)\n",
      "    extinction_sem[freq_count] = np.vdot(V_sem, model.solve(s, V_sem))\n",
      "    \n",
      "    z_eem[freq_count] = np.diag(Z_red[:])[:num_modes]\n",
      "    z_sem[freq_count] = np.diag(model.models[srr_inner, srr_inner].block_impedance(s))[:num_modes]\n",
      "\n"
     ],
     "language": "python",
     "metadata": {},
     "outputs": [],
     "prompt_number": ""
    },
    {
     "cell_type": "code",
     "collapsed": false,
     "input": [
      "start_s = 2j*np.pi*1e9\n",
      "\n",
      "#modes = [0, 2] #3\n",
      "modes = np.arange(0, 30, 2)\n",
      "num_modes = len(modes)\n",
      "s_inner, current_inner = sim.singularities(start_s, modes, srr_inner)\n",
      "s_outer, current_outer = sim.singularities(start_s, modes, srr_outer)\n"
     ],
     "language": "python",
     "metadata": {},
     "outputs": [],
     "prompt_number": ""
    },
    {
     "cell_type": "code",
     "collapsed": false,
     "input": [
      "# at fixed frequency, see how all modes contribute to solution\n",
      "s = 2j*np.pi*3.8e9\n",
      "\n",
      "Z = sim.impedance(s)\n",
      "jk = s/c\n",
      "V = sim.source_plane_wave(e_inc, jk*k_hat)\n",
      "I = Z.solve(V)\n",
      "extinction[freq_count] = np.vdot(V, I)\n",
      "\n",
      "z_inner, modes_inner = Z.eigenmodes(srr_inner, start_j=current_inner)\n",
      "z_outer, modes_outer = Z.eigenmodes(srr_outer, start_j=current_outer)\n",
      "projection = [(srr_inner, modes_inner), (srr_outer, modes_outer)]\n",
      "    \n",
      "#z_full, modes_full = Z.eigenmodes(srr, start_j=current_full)\n",
      "#projection = [(srr, current_full)]\n",
      "\n",
      "Z_red = Z.weight(projection)\n",
      "V_red = V.weight(projection)\n",
      "I_red = Z_red.solve(V_red)\n",
      "extinction_red[freq_count] = np.vdot(V_red, I_red)\n"
     ],
     "language": "python",
     "metadata": {},
     "outputs": [],
     "prompt_number": ""
    },
    {
     "cell_type": "code",
     "collapsed": false,
     "input": [
      "plt.semilogy(modes, abs(I_red[:num_modes]), 'x')\n",
      "plt.semilogy(modes, abs(I_red[num_modes:]), 'x')\n",
      "plt.xlim(-1, num_modes)"
     ],
     "language": "python",
     "metadata": {},
     "outputs": [],
     "prompt_number": ""
    },
    {
     "cell_type": "code",
     "collapsed": false,
     "input": [
      "plt.plot(freqs*1e-9, extinction.real)\n",
      "plt.plot(freqs*1e-9, extinction_red.real)\n",
      "plt.plot(freqs*1e-9, extinction_sem.real)"
     ],
     "language": "python",
     "metadata": {},
     "outputs": [],
     "prompt_number": ""
    },
    {
     "cell_type": "code",
     "collapsed": false,
     "input": [
      "plt.plot(freqs*1e-9, extinction.imag)\n",
      "plt.plot(freqs*1e-9, extinction_red.imag)\n",
      "plt.plot(freqs*1e-9, extinction_sem.imag)"
     ],
     "language": "python",
     "metadata": {},
     "outputs": [],
     "prompt_number": ""
    }
   ],
   "metadata": {}
  }
 ]
}