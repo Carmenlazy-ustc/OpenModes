{
 "metadata": {
  "name": ""
 },
 "nbformat": 3,
 "nbformat_minor": 0,
 "worksheets": [
  {
   "cells": [
    {
     "cell_type": "code",
     "collapsed": false,
     "input": [
      "%matplotlib inline\n",
      "import numpy as np\n",
      "import matplotlib.pyplot as plt"
     ],
     "language": "python",
     "metadata": {},
     "outputs": [],
     "prompt_number": 1
    },
    {
     "cell_type": "code",
     "collapsed": false,
     "input": [
      "import os.path as osp\n",
      "\n",
      "import numpy as np\n",
      "import matplotlib.pyplot as plt\n",
      "\n",
      "import openmodes\n",
      "import openmodes.basis\n",
      "from openmodes.constants import c\n",
      "from openmodes.model import ModelPolyInteraction"
     ],
     "language": "python",
     "metadata": {},
     "outputs": [],
     "prompt_number": 2
    },
    {
     "cell_type": "code",
     "collapsed": false,
     "input": [
      "  \n",
      "mesh_tol = 1e-3\n",
      "    \n",
      "sim = openmodes.Simulation(name='Test DSRR', \n",
      "                           basis_class=openmodes.basis.LoopStarBasis,\n",
      "                           log_display_level=20)\n",
      "\n",
      "srr = sim.place_part()\n",
      "\n",
      "srr_inner_mesh = sim.load_mesh(osp.join(openmodes.geometry_dir, 'SRR.geo'),\n",
      "                     mesh_tol=mesh_tol, parameters={'inner_radius' : 2.5e-3,\n",
      "                                                    'outer_radius' : 4e-3})\n",
      "srr_inner = sim.place_part(srr_inner_mesh, parent=srr)\n",
      "\n",
      "srr_outer_mesh = sim.load_mesh(osp.join(openmodes.geometry_dir, 'SRR.geo'),\n",
      "                     mesh_tol=mesh_tol, parameters={'inner_radius' : 4.5e-3,\n",
      "                                                    'outer_radius' : 6e-3})\n",
      "srr_outer = sim.place_part(srr_outer_mesh, parent=srr)\n",
      "srr_outer.rotate([0, 0, 1], 180)\n",
      "\n",
      "\n"
     ],
     "language": "python",
     "metadata": {},
     "outputs": [
      {
       "output_type": "stream",
       "stream": "stderr",
       "text": [
        "Test DSRR - 2014-04-02 09:52:42,095 - Creating simulation\n",
        "Quadrature order 5\n",
        "Basis function class <class 'openmodes.basis.LoopStarBasis'>\n",
        "Log file c:\\users\\dap124\\appdata\\local\\temp\\2014-04-02--09-52-42ace7ln.log\n"
       ]
      },
      {
       "output_type": "stream",
       "stream": "stderr",
       "text": [
        "Test DSRR - 2014-04-02 09:52:42,096 - Meshing geometry c:\\users\\dap124\\documents\\2014\\openmodes\\openmodes\\geometry\\SRR.geo with parameters {'outer_radius': 0.004, 'inner_radius': 0.0025}\n"
       ]
      },
      {
       "output_type": "stream",
       "stream": "stderr",
       "text": [
        "Test DSRR - 2014-04-02 09:52:42,727 - Loading mesh c:\\users\\dap124\\appdata\\local\\temp\\tmpt2lupw\\SRR.msh\n"
       ]
      },
      {
       "output_type": "stream",
       "stream": "stderr",
       "text": [
        "Test DSRR - 2014-04-02 09:52:42,737 - Creating triangular mesh\n",
        "67 nodes\n",
        "86 triangles\n"
       ]
      },
      {
       "output_type": "stream",
       "stream": "stderr",
       "text": [
        "Test DSRR - 2014-04-02 09:52:42,740 - Meshing geometry c:\\users\\dap124\\documents\\2014\\openmodes\\openmodes\\geometry\\SRR.geo with parameters {'outer_radius': 0.006, 'inner_radius': 0.0045}\n"
       ]
      },
      {
       "output_type": "stream",
       "stream": "stderr",
       "text": [
        "Test DSRR - 2014-04-02 09:52:42,885 - Loading mesh c:\\users\\dap124\\appdata\\local\\temp\\tmpltskf2\\SRR.msh\n"
       ]
      },
      {
       "output_type": "stream",
       "stream": "stderr",
       "text": [
        "Test DSRR - 2014-04-02 09:52:42,900 - Creating triangular mesh\n",
        "99 nodes\n",
        "126 triangles\n"
       ]
      }
     ],
     "prompt_number": 3
    },
    {
     "cell_type": "code",
     "collapsed": false,
     "input": [
      "start_s = 2j*np.pi*1e9\n",
      "\n",
      "#modes = [0, 2] #3\n",
      "modes = np.arange(0, 10, 2)\n",
      "num_modes = len(modes)\n",
      "s_inner, current_inner = sim.singularities(start_s, modes, srr_inner)\n",
      "s_outer, current_outer = sim.singularities(start_s, modes, srr_outer)\n",
      "\n",
      "#s_full, current_full = sim.singularities(start_s, 3, srr)\n",
      "\n",
      "parts_modes = [(srr_inner, s_inner, current_inner),\n",
      "               (srr_outer, s_outer, current_outer)]\n",
      "\n",
      "poly_order = 2\n",
      "s_max = 2j*np.pi*5e9\n",
      "\n",
      "model = ModelPolyInteraction(sim.operator, parts_modes, poly_order, s_max,\n",
      "                             logger=sim.logger)\n"
     ],
     "language": "python",
     "metadata": {},
     "outputs": [
      {
       "output_type": "stream",
       "stream": "stderr",
       "text": [
        "Test DSRR - 2014-04-02 09:52:42,917 - Finding singularities for part 16a29adc-ab79-4dc5-9bc6-7be291d21a8e\n"
       ]
      },
      {
       "output_type": "stream",
       "stream": "stderr",
       "text": [
        "Test DSRR - 2014-04-02 09:52:42,927 - Constructing 106 loop-star basis functions\n",
        "21 loops\n",
        "85 stars\n",
        "86 faces\n",
        "152 edges\n",
        "46 unshared_edges\n",
        "46 nodes on boundary\n",
        "1 boundary contours\n"
       ]
      },
      {
       "output_type": "stream",
       "stream": "stderr",
       "text": [
        "Test DSRR - 2014-04-02 09:52:43,165 - Converged after 4 iterations\n",
        "-2.7629e+07 +7.0611e+09j (linearised solution)\n",
        "-1.7079e+08 +7.1062e+09j (nonlinear solution)\n"
       ]
      },
      {
       "output_type": "stream",
       "stream": "stderr",
       "text": [
        "Test DSRR - 2014-04-02 09:52:43,269 - Converged after 11 iterations\n",
        "-2.2824e+08 +1.8840e+10j (linearised solution)\n",
        "-4.7930e+09 +2.2873e+10j (nonlinear solution)\n"
       ]
      },
      {
       "output_type": "stream",
       "stream": "stderr",
       "text": [
        "Test DSRR - 2014-04-02 09:52:43,270 - Finding singularities for part e1c64945-604d-488a-9629-756e6fd775dc\n"
       ]
      },
      {
       "output_type": "stream",
       "stream": "stderr",
       "text": [
        "Test DSRR - 2014-04-02 09:52:43,280 - Constructing 154 loop-star basis functions\n",
        "29 loops\n",
        "125 stars\n",
        "126 faces\n",
        "224 edges\n",
        "70 unshared_edges\n",
        "70 nodes on boundary\n",
        "1 boundary contours\n"
       ]
      },
      {
       "output_type": "stream",
       "stream": "stderr",
       "text": [
        "Test DSRR - 2014-04-02 09:52:43,612 - Converged after 4 iterations\n",
        "-1.9396e+07 +4.2563e+09j (linearised solution)\n",
        "-7.6900e+07 +4.2655e+09j (nonlinear solution)\n"
       ]
      },
      {
       "output_type": "stream",
       "stream": "stderr",
       "text": [
        "Test DSRR - 2014-04-02 09:52:43,710 - Converged after 5 iterations\n",
        "-2.0242e+08 +1.1711e+10j (linearised solution)\n",
        "-2.1052e+09 +1.3869e+10j (nonlinear solution)\n"
       ]
      },
      {
       "output_type": "stream",
       "stream": "stderr",
       "text": [
        "Test DSRR - 2014-04-02 09:52:43,729 - Creating scalar model\n",
        "dlambda/ds = +1.3836e-09 -1.0603e-10\n",
        "Coefficients: [  3.09341639e+02   0.00000000e+00   3.08445879e+00   1.49060935e-02]\n"
       ]
      },
      {
       "output_type": "stream",
       "stream": "stderr",
       "text": [
        "Test DSRR - 2014-04-02 09:52:43,746 - Creating scalar model\n",
        "dlambda/ds = +7.6463e-10 -3.3522e-10\n",
        "Coefficients: [  5.98759440e+02   1.09116406e+01   5.20872784e+00   1.25746471e-01]\n"
       ]
      },
      {
       "output_type": "stream",
       "stream": "stderr",
       "text": [
        "Test DSRR - 2014-04-02 09:52:43,789 - Creating scalar model\n",
        "dlambda/ds = +1.7195e-09 -1.0444e-10\n",
        "Coefficients: [  2.30646248e+02   0.00000000e+00   2.30268983e+00   8.36980977e-03]\n"
       ]
      },
      {
       "output_type": "stream",
       "stream": "stderr",
       "text": [
        "Test DSRR - 2014-04-02 09:52:43,832 - Creating scalar model\n",
        "dlambda/ds = +1.0875e-09 -3.1021e-10\n",
        "Coefficients: [  4.95904005e+02   8.24623590e+00   4.65536449e+00   6.32395723e-02]\n"
       ]
      }
     ],
     "prompt_number": 4
    },
    {
     "cell_type": "code",
     "collapsed": false,
     "input": [
      "\n",
      "projection_sem = [(srr_inner, current_inner),\n",
      "                  (srr_outer, current_outer)]\n",
      "\n",
      "k_hat = np.array([1, 0, 0])\n",
      "e_inc = np.array([0, 1, 0])\n",
      "\n",
      "num_freqs = 200\n",
      "freqs = np.linspace(3.2e9, 4.5e9, num_freqs)\n",
      "\n",
      "extinction = np.empty(num_freqs, np.complex128)\n",
      "extinction_red = np.empty(num_freqs, np.complex128)\n",
      "extinction_sem = np.empty(num_freqs, np.complex128)\n",
      "\n",
      "z_sem = np.empty((num_freqs, num_modes), np.complex128)\n",
      "z_eem = np.empty((num_freqs, num_modes), np.complex128)\n",
      "\n",
      "for freq_count, s in sim.iter_freqs(freqs):\n",
      "    Z = sim.impedance(s)\n",
      "    jk = s/c\n",
      "    V = sim.source_plane_wave(e_inc, jk*k_hat)\n",
      "    I = Z.solve(V)\n",
      "    extinction[freq_count] = np.vdot(V, I)\n",
      "\n",
      "    z_inner, modes_inner = Z.eigenmodes(srr_inner, start_j=current_inner)\n",
      "    z_outer, modes_outer = Z.eigenmodes(srr_outer, start_j=current_outer)\n",
      "    projection = [(srr_inner, modes_inner), (srr_outer, modes_outer)]\n",
      "    \n",
      "    #z_full, modes_full = Z.eigenmodes(srr, start_j=current_full)\n",
      "    #projection = [(srr, current_full)]\n",
      "    \n",
      "    Z_red = Z.weight(projection)\n",
      "    V_red = V.weight(projection)\n",
      "    I_red = Z_red.solve(V_red)\n",
      "    extinction_red[freq_count] = np.vdot(V_red, I_red)\n",
      "    #extinction_red[freq_count] = np.vdot(V.project(projection), I.project(projection))\n",
      "    \n",
      "    V_sem = V.weight(projection_sem)\n",
      "    extinction_sem[freq_count] = np.vdot(V_sem, model.solve(s, V_sem))\n",
      "    \n",
      "    z_eem[freq_count] = np.diag(Z_red[:])[:num_modes]\n",
      "    z_sem[freq_count] = np.diag(model.models[srr_inner, srr_inner].block_impedance(s))[:num_modes]\n",
      "\n"
     ],
     "language": "python",
     "metadata": {},
     "outputs": [
      {
       "output_type": "stream",
       "stream": "stderr",
       "text": [
        "Test DSRR - 2014-04-02 09:52:43,881 - Sweep frequency 0/200\n"
       ]
      },
      {
       "output_type": "stream",
       "stream": "stderr",
       "text": [
        "Test DSRR - 2014-04-02 09:52:44,631 - Sweep frequency 10/200\n"
       ]
      },
      {
       "output_type": "stream",
       "stream": "stderr",
       "text": [
        "Test DSRR - 2014-04-02 09:52:45,312 - Sweep frequency 20/200\n"
       ]
      },
      {
       "output_type": "stream",
       "stream": "stderr",
       "text": [
        "Test DSRR - 2014-04-02 09:52:45,921 - Sweep frequency 30/200\n"
       ]
      },
      {
       "output_type": "stream",
       "stream": "stderr",
       "text": [
        "Test DSRR - 2014-04-02 09:52:46,602 - Sweep frequency 40/200\n"
       ]
      },
      {
       "output_type": "stream",
       "stream": "stderr",
       "text": [
        "Test DSRR - 2014-04-02 09:52:47,194 - Sweep frequency 50/200\n"
       ]
      },
      {
       "output_type": "stream",
       "stream": "stderr",
       "text": [
        "Test DSRR - 2014-04-02 09:52:47,796 - Sweep frequency 60/200\n"
       ]
      },
      {
       "output_type": "stream",
       "stream": "stderr",
       "text": [
        "Test DSRR - 2014-04-02 09:52:48,413 - Sweep frequency 70/200\n"
       ]
      },
      {
       "output_type": "stream",
       "stream": "stderr",
       "text": [
        "Test DSRR - 2014-04-02 09:52:49,075 - Sweep frequency 80/200\n"
       ]
      },
      {
       "output_type": "stream",
       "stream": "stderr",
       "text": [
        "Test DSRR - 2014-04-02 09:52:49,720 - Sweep frequency 90/200\n"
       ]
      },
      {
       "output_type": "stream",
       "stream": "stderr",
       "text": [
        "Test DSRR - 2014-04-02 09:52:50,346 - Sweep frequency 100/200\n"
       ]
      },
      {
       "output_type": "stream",
       "stream": "stderr",
       "text": [
        "Test DSRR - 2014-04-02 09:52:51,085 - Sweep frequency 110/200\n"
       ]
      },
      {
       "output_type": "stream",
       "stream": "stderr",
       "text": [
        "Test DSRR - 2014-04-02 09:52:51,710 - Sweep frequency 120/200\n"
       ]
      },
      {
       "output_type": "stream",
       "stream": "stderr",
       "text": [
        "Test DSRR - 2014-04-02 09:52:52,319 - Sweep frequency 130/200\n"
       ]
      },
      {
       "output_type": "stream",
       "stream": "stderr",
       "text": [
        "Test DSRR - 2014-04-02 09:52:52,947 - Sweep frequency 140/200\n"
       ]
      },
      {
       "output_type": "stream",
       "stream": "stderr",
       "text": [
        "Test DSRR - 2014-04-02 09:52:53,563 - Sweep frequency 150/200\n"
       ]
      },
      {
       "output_type": "stream",
       "stream": "stderr",
       "text": [
        "Test DSRR - 2014-04-02 09:52:54,176 - Sweep frequency 160/200\n"
       ]
      },
      {
       "output_type": "stream",
       "stream": "stderr",
       "text": [
        "Test DSRR - 2014-04-02 09:52:54,835 - Sweep frequency 170/200\n"
       ]
      },
      {
       "output_type": "stream",
       "stream": "stderr",
       "text": [
        "Test DSRR - 2014-04-02 09:52:55,440 - Sweep frequency 180/200\n"
       ]
      },
      {
       "output_type": "stream",
       "stream": "stderr",
       "text": [
        "Test DSRR - 2014-04-02 09:52:56,065 - Sweep frequency 190/200\n"
       ]
      }
     ],
     "prompt_number": 5
    },
    {
     "cell_type": "code",
     "collapsed": false,
     "input": [
      "start_s = 2j*np.pi*1e9\n",
      "\n",
      "#modes = [0, 2] #3\n",
      "modes = np.arange(0, 30, 2)\n",
      "num_modes = len(modes)\n",
      "s_inner, current_inner = sim.singularities(start_s, modes, srr_inner)\n",
      "s_outer, current_outer = sim.singularities(start_s, modes, srr_outer)\n"
     ],
     "language": "python",
     "metadata": {},
     "outputs": [
      {
       "output_type": "stream",
       "stream": "stderr",
       "text": [
        "Test DSRR - 2014-04-02 10:02:20,398 - Finding singularities for part 16a29adc-ab79-4dc5-9bc6-7be291d21a8e\n"
       ]
      },
      {
       "output_type": "stream",
       "stream": "stderr",
       "text": [
        "Test DSRR - 2014-04-02 10:02:20,506 - Converged after 4 iterations\n",
        "-2.7629e+07 +7.0611e+09j (linearised solution)\n",
        "-1.7079e+08 +7.1062e+09j (nonlinear solution)\n"
       ]
      },
      {
       "output_type": "stream",
       "stream": "stderr",
       "text": [
        "Test DSRR - 2014-04-02 10:02:20,628 - Converged after 11 iterations\n",
        "-2.2824e+08 +1.8840e+10j (linearised solution)\n",
        "-4.7930e+09 +2.2873e+10j (nonlinear solution)\n"
       ]
      },
      {
       "output_type": "stream",
       "stream": "stderr",
       "text": [
        "Test DSRR - 2014-04-02 10:02:20,694 - Converged after 6 iterations\n",
        "-4.2615e+07 +3.3942e+10j (linearised solution)\n",
        "-7.4398e+09 +3.6185e+10j (nonlinear solution)\n"
       ]
      },
      {
       "output_type": "stream",
       "stream": "stderr",
       "text": [
        "Test DSRR - 2014-04-02 10:02:20,757 - Converged after 6 iterations\n",
        "-3.5285e+07 +4.8695e+10j (linearised solution)\n",
        "-8.2031e+09 +4.9631e+10j (nonlinear solution)\n"
       ]
      },
      {
       "output_type": "stream",
       "stream": "stderr",
       "text": [
        "Test DSRR - 2014-04-02 10:02:20,861 - Converged after 11 iterations\n",
        "-2.6782e+08 +6.1116e+10j (linearised solution)\n",
        "-9.8058e+09 +7.6171e+10j (nonlinear solution)\n"
       ]
      },
      {
       "output_type": "stream",
       "stream": "stderr",
       "text": [
        "Test DSRR - 2014-04-02 10:02:20,926 - Converged after 6 iterations\n",
        "-2.7060e+08 +6.4329e+10j (linearised solution)\n",
        "-1.6119e+12 -4.2647e+11j (nonlinear solution)\n"
       ]
      },
      {
       "output_type": "stream",
       "stream": "stderr",
       "text": [
        "Test DSRR - 2014-04-02 10:02:21,007 - Converged after 8 iterations\n",
        "-1.5499e+05 +7.1383e+10j (linearised solution)\n",
        "-1.0187e+10 +6.7305e+10j (nonlinear solution)\n"
       ]
      },
      {
       "output_type": "stream",
       "stream": "stderr",
       "text": [
        "Test DSRR - 2014-04-02 10:02:21,056 - Converged after 4 iterations\n",
        "-2.5747e+06 +7.7647e+10j (linearised solution)\n",
        "+4.2653e+10 +2.2538e+11j (nonlinear solution)\n"
       ]
      },
      {
       "output_type": "stream",
       "stream": "stderr",
       "text": [
        "Test DSRR - 2014-04-02 10:02:21,121 - Converged after 6 iterations\n",
        "-9.2465e+05 +8.4667e+10j (linearised solution)\n",
        "+2.8567e+10 +7.8404e+10j (nonlinear solution)\n"
       ]
      },
      {
       "output_type": "stream",
       "stream": "stderr",
       "text": [
        "Test DSRR - 2014-04-02 10:02:21,177 - Converged after 5 iterations\n",
        "-3.2059e+05 +9.0344e+10j (linearised solution)\n",
        "-4.2020e+10 +1.0713e+11j (nonlinear solution)\n"
       ]
      },
      {
       "output_type": "stream",
       "stream": "stderr",
       "text": [
        "Test DSRR - 2014-04-02 10:02:21,309 - Converged after 10 iterations\n",
        "-6.9542e+04 +9.7271e+10j (linearised solution)\n",
        "+5.4221e+10 -2.8845e+10j (nonlinear solution)\n"
       ]
      },
      {
       "output_type": "stream",
       "stream": "stderr",
       "text": [
        "Test DSRR - 2014-04-02 10:02:21,440 - Converged after 15 iterations\n",
        "-1.3672e+05 +1.0297e+11j (linearised solution)\n",
        "-1.9491e+10 +9.1076e+10j (nonlinear solution)\n"
       ]
      },
      {
       "output_type": "stream",
       "stream": "stderr",
       "text": [
        "Test DSRR - 2014-04-02 10:02:21,520 - Converged after 8 iterations\n",
        "-1.6917e+03 +1.1066e+11j (linearised solution)\n",
        "-1.7050e+10 +1.1116e+11j (nonlinear solution)\n"
       ]
      },
      {
       "output_type": "stream",
       "stream": "stderr",
       "text": [
        "Test DSRR - 2014-04-02 10:02:21,595 - Converged after 8 iterations\n",
        "-2.5911e+04 +1.1600e+11j (linearised solution)\n",
        "-9.7876e+09 +1.1086e+11j (nonlinear solution)\n"
       ]
      },
      {
       "output_type": "stream",
       "stream": "stderr",
       "text": [
        "Test DSRR - 2014-04-02 10:02:21,727 - Converged after 15 iterations\n",
        "-1.0522e+05 +1.2279e+11j (linearised solution)\n",
        "+6.5005e+11 -8.4489e+02j (nonlinear solution)\n"
       ]
      },
      {
       "output_type": "stream",
       "stream": "stderr",
       "text": [
        "Test DSRR - 2014-04-02 10:02:21,730 - Finding singularities for part e1c64945-604d-488a-9629-756e6fd775dc\n"
       ]
      },
      {
       "output_type": "stream",
       "stream": "stderr",
       "text": [
        "Test DSRR - 2014-04-02 10:02:21,851 - Converged after 4 iterations\n",
        "-1.9396e+07 +4.2563e+09j (linearised solution)\n",
        "-7.6900e+07 +4.2655e+09j (nonlinear solution)\n"
       ]
      },
      {
       "output_type": "stream",
       "stream": "stderr",
       "text": [
        "Test DSRR - 2014-04-02 10:02:21,948 - Converged after 5 iterations\n",
        "-2.0242e+08 +1.1711e+10j (linearised solution)\n",
        "-2.1052e+09 +1.3869e+10j (nonlinear solution)\n"
       ]
      },
      {
       "output_type": "stream",
       "stream": "stderr",
       "text": [
        "Test DSRR - 2014-04-02 10:02:22,101 - Converged after 7 iterations\n",
        "-3.4812e+07 +2.1050e+10j (linearised solution)\n",
        "-3.4114e+09 +2.2956e+10j (nonlinear solution)\n"
       ]
      },
      {
       "output_type": "stream",
       "stream": "stderr",
       "text": [
        "Test DSRR - 2014-04-02 10:02:22,227 - Converged after 6 iterations\n",
        "-1.9436e+07 +3.0315e+10j (linearised solution)\n",
        "-4.6006e+09 +3.1948e+10j (nonlinear solution)\n"
       ]
      },
      {
       "output_type": "stream",
       "stream": "stderr",
       "text": [
        "Test DSRR - 2014-04-02 10:02:22,349 - Converged after 6 iterations\n",
        "-1.7371e+07 +3.9608e+10j (linearised solution)\n",
        "-5.4083e+09 +4.0676e+10j (nonlinear solution)\n"
       ]
      },
      {
       "output_type": "stream",
       "stream": "stderr",
       "text": [
        "Test DSRR - 2014-04-02 10:02:22,444 - Converged after 5 iterations\n",
        "-2.0654e+07 +4.8760e+10j (linearised solution)\n",
        "-5.8216e+09 +4.9272e+10j (nonlinear solution)\n"
       ]
      },
      {
       "output_type": "stream",
       "stream": "stderr",
       "text": [
        "Test DSRR - 2014-04-02 10:02:22,615 - Converged after 10 iterations\n",
        "-4.7919e+08 +5.5786e+10j (linearised solution)\n",
        "-2.1052e+09 -1.3869e+10j (nonlinear solution)\n"
       ]
      },
      {
       "output_type": "stream",
       "stream": "stderr",
       "text": [
        "Test DSRR - 2014-04-02 10:02:22,884 - Converged after 16 iterations\n",
        "-1.5149e+08 +5.7342e+10j (linearised solution)\n",
        "-9.6284e+09 -1.4547e+10j (nonlinear solution)\n"
       ]
      },
      {
       "output_type": "stream",
       "stream": "stderr",
       "text": [
        "Test DSRR - 2014-04-02 10:02:23,045 - Converged after 7 iterations\n",
        "-3.3574e+05 +6.3258e+10j (linearised solution)\n",
        "-7.0057e+09 +6.0958e+10j (nonlinear solution)\n"
       ]
      },
      {
       "output_type": "stream",
       "stream": "stderr",
       "text": [
        "Test DSRR - 2014-04-02 10:02:23,270 - Converged after 13 iterations\n",
        "-4.5494e+06 +6.6053e+10j (linearised solution)\n",
        "-7.0057e+09 +6.0958e+10j (nonlinear solution)\n"
       ]
      },
      {
       "output_type": "stream",
       "stream": "stderr",
       "text": [
        "Test DSRR - 2014-04-02 10:02:23,573 - Converged after 16 iterations\n",
        "-5.9875e+05 +7.1681e+10j (linearised solution)\n",
        "-7.1219e+09 +7.4418e+10j (nonlinear solution)\n"
       ]
      },
      {
       "output_type": "stream",
       "stream": "stderr",
       "text": [
        "Test DSRR - 2014-04-02 10:02:23,694 - Converged after 6 iterations\n",
        "-5.0538e+05 +7.3647e+10j (linearised solution)\n",
        "-9.0828e+09 +1.0197e+11j (nonlinear solution)\n"
       ]
      },
      {
       "output_type": "stream",
       "stream": "stderr",
       "text": [
        "Test DSRR - 2014-04-02 10:02:23,854 - Converged after 9 iterations\n",
        "-4.8274e+05 +7.8152e+10j (linearised solution)\n",
        "-1.1813e+10 +8.2805e+10j (nonlinear solution)\n"
       ]
      },
      {
       "output_type": "stream",
       "stream": "stderr",
       "text": [
        "Test DSRR - 2014-04-02 10:02:24,012 - Converged after 9 iterations\n",
        "-8.5119e+04 +8.0985e+10j (linearised solution)\n",
        "-7.6297e+09 +7.7406e+10j (nonlinear solution)\n"
       ]
      },
      {
       "output_type": "stream",
       "stream": "stderr",
       "text": [
        "Test DSRR - 2014-04-02 10:02:24,125 - Converged after 6 iterations\n",
        "-1.1722e+06 +8.6089e+10j (linearised solution)\n",
        "-8.4810e+09 +8.3771e+10j (nonlinear solution)\n"
       ]
      }
     ],
     "prompt_number": 23
    },
    {
     "cell_type": "code",
     "collapsed": false,
     "input": [
      "# at fixed frequency, see how all modes contribute to solution\n",
      "s = 2j*np.pi*3.8e9\n",
      "\n",
      "Z = sim.impedance(s)\n",
      "jk = s/c\n",
      "V = sim.source_plane_wave(e_inc, jk*k_hat)\n",
      "I = Z.solve(V)\n",
      "extinction[freq_count] = np.vdot(V, I)\n",
      "\n",
      "z_inner, modes_inner = Z.eigenmodes(srr_inner, start_j=current_inner)\n",
      "z_outer, modes_outer = Z.eigenmodes(srr_outer, start_j=current_outer)\n",
      "projection = [(srr_inner, modes_inner), (srr_outer, modes_outer)]\n",
      "    \n",
      "#z_full, modes_full = Z.eigenmodes(srr, start_j=current_full)\n",
      "#projection = [(srr, current_full)]\n",
      "\n",
      "Z_red = Z.weight(projection)\n",
      "V_red = V.weight(projection)\n",
      "I_red = Z_red.solve(V_red)\n",
      "extinction_red[freq_count] = np.vdot(V_red, I_red)\n"
     ],
     "language": "python",
     "metadata": {},
     "outputs": [],
     "prompt_number": 24
    },
    {
     "cell_type": "code",
     "collapsed": false,
     "input": [
      "plt.semilogy(modes, abs(I_red[:num_modes]), 'x')\n",
      "plt.semilogy(modes, abs(I_red[num_modes:]), 'x')\n",
      "plt.xlim(-1, num_modes)"
     ],
     "language": "python",
     "metadata": {},
     "outputs": [
      {
       "metadata": {},
       "output_type": "pyout",
       "prompt_number": 25,
       "text": [
        "(-1, 15)"
       ]
      },
      {
       "metadata": {},
       "output_type": "display_data",
       "png": "[encoded data removed]",
       "text": [
        "<matplotlib.figure.Figure at 0x15ab9d30>"
       ]
      }
     ],
     "prompt_number": 25
    },
    {
     "cell_type": "code",
     "collapsed": false,
     "input": [
      "plt.plot(freqs*1e-9, extinction.real)\n",
      "plt.plot(freqs*1e-9, extinction_red.real)\n",
      "plt.plot(freqs*1e-9, extinction_sem.real)"
     ],
     "language": "python",
     "metadata": {},
     "outputs": [
      {
       "metadata": {},
       "output_type": "display_data",
       "png": "[encoded data removed]",
       "text": [
        "<matplotlib.figure.Figure at 0x8be8d30>"
       ]
      }
     ],
     "prompt_number": 6
    },
    {
     "cell_type": "code",
     "collapsed": false,
     "input": [
      "plt.plot(freqs*1e-9, extinction.imag)\n",
      "plt.plot(freqs*1e-9, extinction_red.imag)\n",
      "plt.plot(freqs*1e-9, extinction_sem.imag)"
     ],
     "language": "python",
     "metadata": {},
     "outputs": [
      {
       "metadata": {},
       "output_type": "display_data",
       "png": "[encoded data removed]",
       "text": [
        "<matplotlib.figure.Figure at 0x8be8c50>"
       ]
      }
     ],
     "prompt_number": 7
    }
   ],
   "metadata": {}
  }
 ]
}