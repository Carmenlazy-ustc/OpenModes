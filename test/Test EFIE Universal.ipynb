{
 "metadata": {
  "name": "",
  "signature": ""
 },
 "nbformat": 3,
 "nbformat_minor": 0,
 "worksheets": [
  {
   "cells": [
    {
     "cell_type": "markdown",
     "metadata": {},
     "source": [
      "Test the \"universal\" fortran function, which calculates both the singular and non-singular integrals"
     ]
    },
    {
     "cell_type": "code",
     "collapsed": false,
     "input": [
      "# allow plots within the notebook\n",
      "%matplotlib inline\n",
      "import numpy as np\n",
      "import matplotlib.pyplot as plt\n",
      "\n",
      "import os.path as osp\n",
      "\n",
      "import logging\n",
      "logging.getLogger().setLevel(logging.INFO)\n",
      "\n",
      "import openmodes\n",
      "from openmodes.constants import c, eta_0\n",
      "\n",
      "import scipy.linalg as la\n",
      "\n",
      "import os\n",
      "os.environ['OMP_NUM_THREADS']='1'"
     ],
     "language": "python",
     "metadata": {},
     "outputs": [],
     "prompt_number": ""
    },
    {
     "cell_type": "code",
     "collapsed": false,
     "input": [
      "sim = openmodes.Simulation(name=\"circle-zigzag-band\")\n",
      "mesh = sim.load_mesh(osp.join(openmodes.geometry_dir, \"circle.geo\"), \n",
      "                    parameters={'radius':5e-3, 'mesh_tol' : 1.5e-3}, mesh_tol = 0.3e-3)\n",
      "part = sim.place_part(mesh)"
     ],
     "language": "python",
     "metadata": {},
     "outputs": [],
     "prompt_number": ""
    },
    {
     "cell_type": "code",
     "collapsed": false,
     "input": [
      "from openmodes.core import z_efie_faces_self, z_efie_faces_self_2\n",
      "from openmodes.operator.efie import singular_impedance_rwg_efie_homogeneous"
     ],
     "language": "python",
     "metadata": {},
     "outputs": [],
     "prompt_number": ""
    },
    {
     "cell_type": "code",
     "collapsed": false,
     "input": [
      "s = 2j*np.pi*1e9\n",
      "\n",
      "basis_o = sim.basis_container[part]\n",
      "singular_terms = singular_impedance_rwg_efie_homogeneous(basis_o, sim.integration_rule)\n"
     ],
     "language": "python",
     "metadata": {},
     "outputs": [],
     "prompt_number": ""
    },
    {
     "cell_type": "code",
     "collapsed": false,
     "input": [
      "A_1, phi_1 = z_efie_faces_self(mesh.nodes, mesh.polygons, s, sim.integration_rule.xi_eta, sim.integration_rule.weights, *singular_terms)\n",
      "print A_1.shape, phi_1.shape"
     ],
     "language": "python",
     "metadata": {},
     "outputs": [],
     "prompt_number": ""
    },
    {
     "cell_type": "code",
     "collapsed": false,
     "input": [
      "A_2, phi_2 = z_efie_faces_self_2(mesh.nodes, mesh.polygons, s, sim.integration_rule.xi_eta, sim.integration_rule.weights, *singular_terms)\n",
      "print A_2.shape, phi_2.shape"
     ],
     "language": "python",
     "metadata": {},
     "outputs": [],
     "prompt_number": ""
    },
    {
     "cell_type": "code",
     "collapsed": false,
     "input": [
      "from numpy.testing import assert_allclose\n",
      "assert_allclose(A_1, A_2)\n",
      "assert_allclose(phi_1, phi_2)"
     ],
     "language": "python",
     "metadata": {},
     "outputs": [],
     "prompt_number": ""
    },
    {
     "cell_type": "code",
     "collapsed": false,
     "input": [],
     "language": "python",
     "metadata": {},
     "outputs": [],
     "prompt_number": ""
    },
    {
     "cell_type": "code",
     "collapsed": false,
     "input": [
      "%timeit -n 10 z_efie_faces_self(mesh.nodes, mesh.polygons, s, sim.integration_rule.xi_eta, sim.integration_rule.weights, *singular_terms)"
     ],
     "language": "python",
     "metadata": {},
     "outputs": [],
     "prompt_number": ""
    },
    {
     "cell_type": "code",
     "collapsed": false,
     "input": [
      "%timeit -n 10 z_efie_faces_self_2(mesh.nodes, mesh.polygons, s, sim.integration_rule.xi_eta, sim.integration_rule.weights, *singular_terms)"
     ],
     "language": "python",
     "metadata": {},
     "outputs": [],
     "prompt_number": ""
    },
    {
     "cell_type": "markdown",
     "metadata": {},
     "source": [
      "These results indicate that the two routines give the same answer. They show an approximately 10% performance hit for the universal function which works in both singular and non-singular cases"
     ]
    },
    {
     "cell_type": "code",
     "collapsed": false,
     "input": [],
     "language": "python",
     "metadata": {},
     "outputs": []
    }
   ],
   "metadata": {}
  }
 ]
}