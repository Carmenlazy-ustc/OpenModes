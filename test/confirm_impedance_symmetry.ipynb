{
 "metadata": {
  "name": ""
 },
 "nbformat": 3,
 "nbformat_minor": 0,
 "worksheets": [
  {
   "cells": [
    {
     "cell_type": "markdown",
     "metadata": {},
     "source": [
      "Calculate coupling coefficients for a pair of SRRs"
     ]
    },
    {
     "cell_type": "code",
     "collapsed": false,
     "input": [
      "import openmodes\n",
      "from openmodes.constants import c\n",
      "import os.path as osp"
     ],
     "language": "python",
     "metadata": {},
     "outputs": [],
     "prompt_number": ""
    },
    {
     "cell_type": "code",
     "collapsed": false,
     "input": [
      "sim = openmodes.Simulation()\n",
      "srr = openmodes.load_mesh(osp.join(openmodes.geometry_dir, \"SRR.geo\"), mesh_tol=0.5e-3)\n",
      "\n",
      "srr1 = sim.place_part(srr)\n",
      "srr2 = sim.place_part(srr, location= [0e-3, 0e-3, 2e-3])\n",
      "srr2.rotate([0, 0, 1], 180)"
     ],
     "language": "python",
     "metadata": {},
     "outputs": [],
     "prompt_number": ""
    },
    {
     "cell_type": "code",
     "collapsed": false,
     "input": [
      "from openmodes.visualise import plot_parts\n",
      "plot_parts(sim.parts)"
     ],
     "language": "python",
     "metadata": {},
     "outputs": [],
     "prompt_number": ""
    },
    {
     "cell_type": "code",
     "collapsed": false,
     "input": [
      "#freqs = np.linspace(1e9, 10e9, 101)\n",
      "#freqs = np.linspace(4.8e9, 5.8e9, 101)\n",
      "#freqs = np.linspace(4e9, 8e9, 101)\n",
      "freqs = np.linspace(-8e9, 8e9, 100)\n",
      "e_inc = np.array([1, 0, 0], dtype=np.complex128)\n",
      "k_hat = np.array([0, 1, 0], dtype=np.complex128)\n",
      "\n"
     ],
     "language": "python",
     "metadata": {},
     "outputs": [],
     "prompt_number": ""
    },
    {
     "cell_type": "code",
     "collapsed": false,
     "input": [
      "num_modes = 3\n",
      "\n",
      "extinction_red = np.empty(len(freqs), np.complex128)\n",
      "extinction_tot = np.empty(len(freqs), np.complex128)\n",
      "\n",
      "reduced_L = np.empty((len(freqs), num_modes*2, num_modes*2), np.complex128)\n",
      "reduced_S = np.empty((len(freqs), num_modes*2, num_modes*2), np.complex128)\n",
      "I_red = np.empty((len(freqs), num_modes*2), np.complex128)\n",
      "\n",
      "for freq_count, freq in enumerate(freqs):\n",
      "    s = 2j*np.pi*freq\n",
      "    \n",
      "    impedance = sim.calculate_impedance(s)\n",
      "    V = sim.source_plane_wave(e_inc, k_hat*s/c)\n",
      "    \n",
      "    z_mode, j_mode = impedance.eigenmodes(num_modes)\n",
      "    impedance_red = impedance.impedance_modes(num_modes, j_mode)\n",
      "    reduced_L[freq_count] = impedance_red.L\n",
      "    reduced_S[freq_count] = impedance_red.S\n",
      "    \n",
      "    V_red = impedance.source_modes(V, num_modes, j_mode)\n",
      "    I_red[freq_count] = impedance_red.solve(V_red)\n",
      "    extinction_red[freq_count] = np.vdot(V_red, I_red[freq_count])\n",
      "\n",
      "    impedance_combined = impedance.combine_parts()\n",
      "    V_tot = np.hstack(V)\n",
      "    extinction_tot[freq_count] = np.vdot(V_tot, impedance_combined.solve(V_tot))\n"
     ],
     "language": "python",
     "metadata": {},
     "outputs": [],
     "prompt_number": ""
    },
    {
     "cell_type": "code",
     "collapsed": false,
     "input": [
      "plot(freqs*1e-9, reduced_L[:, 0, 0].real)\n",
      "plot(freqs*1e-9, reduced_L[:, 0, 0].imag)\n",
      "ylim (-1e-11, 1e-11)\n"
     ],
     "language": "python",
     "metadata": {},
     "outputs": [],
     "prompt_number": ""
    },
    {
     "cell_type": "code",
     "collapsed": false,
     "input": [
      "plot(freqs*1e-9, reduced_S[:, 0, 0].real)\n",
      "plot(freqs*1e-9, reduced_S[:, 0, 0].imag)"
     ],
     "language": "python",
     "metadata": {},
     "outputs": [],
     "prompt_number": ""
    },
    {
     "cell_type": "code",
     "collapsed": false,
     "input": [
      "ss = 2j*pi*freqs\n",
      "reduced_Z = ss*reduced_L[:, 0, 0] + reduced_S[:, 0, 0]/ss\n",
      "reduced_Y = 1/reduced_Z"
     ],
     "language": "python",
     "metadata": {},
     "outputs": [],
     "prompt_number": ""
    },
    {
     "cell_type": "code",
     "collapsed": false,
     "input": [
      "plot(freqs*1e-9, reduced_Z.real)\n",
      "plot(freqs*1e-9, reduced_Z.imag)"
     ],
     "language": "python",
     "metadata": {},
     "outputs": [],
     "prompt_number": ""
    },
    {
     "cell_type": "code",
     "collapsed": false,
     "input": [
      "plot(freqs*1e-9, reduced_Y.real)\n",
      "plot(freqs*1e-9, reduced_Y.imag)"
     ],
     "language": "python",
     "metadata": {},
     "outputs": [],
     "prompt_number": ""
    }
   ],
   "metadata": {}
  }
 ]
}