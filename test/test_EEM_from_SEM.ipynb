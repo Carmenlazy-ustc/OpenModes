{
 "metadata": {
  "name": ""
 },
 "nbformat": 3,
 "nbformat_minor": 0,
 "worksheets": [
  {
   "cells": [
    {
     "cell_type": "markdown",
     "metadata": {},
     "source": [
      "Example 5 - Coupling Coefficients of ASRRs\n",
      "------------------------------------------\n",
      "Two split rings are placed in a broadside coupled configuration. The scalar model of each resonator is augmented by additional coefficients representing the coupling between them.\n",
      "\n",
      "In [D. A. Powell et al, Phys. Rev. B 82, 155128 (2010)](http://dx.doi.org/10.1103/PhysRevB.82.155128) similar coefficients were calculated under the quasi-static approximation for a single mode only. Here the effects of retardation and radiation losses are included, as are the contributions of multiple modes of each ring."
     ]
    },
    {
     "cell_type": "code",
     "collapsed": false,
     "input": [
      "%connect_info"
     ],
     "language": "python",
     "metadata": {},
     "outputs": [],
     "prompt_number": ""
    },
    {
     "cell_type": "code",
     "collapsed": false,
     "input": [
      "import openmodes\n",
      "import openmodes.basis\n",
      "from openmodes.constants import c\n",
      "from openmodes.eig import eig_newton_linear\n",
      "\n",
      "import os.path as osp\n",
      "\n"
     ],
     "language": "python",
     "metadata": {},
     "outputs": [],
     "prompt_number": ""
    },
    {
     "cell_type": "code",
     "collapsed": false,
     "input": [
      "sim = openmodes.Simulation(basis_class=openmodes.basis.LoopStarBasis, name=\"example5\")\n",
      "#sim = openmodes.Simulation(basis_class=openmodes.basis.DivRwgBasis, name=\"example5\")\n",
      "sim.logger.propagate = True\n",
      "ring1, ring2 = openmodes.load_mesh(osp.join(\"..\", \"examples\", \"geometry\", \"asymmetric_ring.geo\"), mesh_tol=0.5e-3)\n",
      "\n",
      "sim.place_part(ring1)\n",
      "sim.place_part(ring2);"
     ],
     "language": "python",
     "metadata": {},
     "outputs": [],
     "prompt_number": ""
    },
    {
     "cell_type": "code",
     "collapsed": false,
     "input": [
      "from openmodes.visualise import plot_parts\n",
      "plot_parts(sim.parts, view_angles=(90, 0))"
     ],
     "language": "python",
     "metadata": {},
     "outputs": [],
     "prompt_number": ""
    },
    {
     "cell_type": "code",
     "collapsed": false,
     "input": [
      "num_modes = 4"
     ],
     "language": "python",
     "metadata": {},
     "outputs": [],
     "prompt_number": ""
    },
    {
     "cell_type": "code",
     "collapsed": false,
     "input": [
      "start_freq = 10e9\n",
      "start_s = 2j*pi*start_freq\n",
      "\n",
      "#mode_s, mode_j = sim.part_singularities(start_s, num_modes)\n",
      "#scalar_models = sim.construct_models(mode_s, mode_j);\n",
      "s_sem, j_sem = sim.system_singularities(start_s, num_modes)\n",
      "models_sem = sim.construct_model_system(s_sem, j_sem);"
     ],
     "language": "python",
     "metadata": {},
     "outputs": [],
     "prompt_number": ""
    },
    {
     "cell_type": "code",
     "collapsed": false,
     "input": [
      "\n",
      "freqs = np.linspace(4e9, 20e9, 101)\n",
      "e_inc = np.array([1.0, 1.0, 0], dtype=np.complex128)\n",
      "k_hat = np.array([0, 0, 1.0], dtype=np.complex128)\n"
     ],
     "language": "python",
     "metadata": {},
     "outputs": [],
     "prompt_number": ""
    },
    {
     "cell_type": "code",
     "collapsed": false,
     "input": [
      "extinction_sem = np.empty((len(freqs), num_modes), np.complex128)\n",
      "extinction_red = np.empty(len(freqs), np.complex128)\n",
      "extinction_tot = np.empty(len(freqs), np.complex128)\n",
      "\n",
      "I_red = np.empty((len(freqs), num_modes*2), np.complex128)\n",
      "\n",
      "j_eem = np.empty_like(j_sem)\n",
      "#z_eem = np.empty_like(s_sem)\n",
      "\n",
      "z_sem = np.empty((len(freqs), num_modes), np.complex128)\n",
      "z_eem = np.empty_like(z_sem)\n",
      "\n",
      "for freq_count, freq in enumerate(freqs):\n",
      "    s = 2j*np.pi*freq\n",
      "    \n",
      "    impedance = sim.calculate_impedance(s)\n",
      "    V = sim.source_plane_wave(e_inc, k_hat*s/c)\n",
      "    \n",
      "    #z_mode, j_mode = impedance.eigenmodes(num_modes, use_gram=False)\n",
      "    #impedance_red = impedance.impedance_modes(num_modes, j_mode)\n",
      "    #reduced_L[freq_count] = impedance_red.L\n",
      "    #reduced_S[freq_count] = impedance_red.S\n",
      "    \n",
      "    #V_red = impedance.source_modes(V, num_modes, j_mode)\n",
      "    #I_red[freq_count] = impedance_red.solve(V_red)\n",
      "    #extinction_red[freq_count] = np.vdot(V_red, I_red[freq_count])\n",
      "\n",
      "    Z_tot, V_tot = impedance.combine_parts(V)\n",
      "    extinction_tot[freq_count] = np.vdot(V_tot, Z_tot.solve(V_tot))\n",
      "\n",
      "    G = Z_tot.basis_o.gram_matrix.toarray()\n",
      "    \n",
      "    Z = Z_tot[:]\n",
      "    for mode in xrange(num_modes):\n",
      "        z_sem[freq_count, mode] = models_sem[mode].scalar_impedance(s)\n",
      "        z_start = j_sem[:, mode].dot(Z.dot(j_sem[:, mode]))\n",
      "\n",
      "        #res = eig_newton_linear(Z_tot[:], z_sem[freq_count, mode], j_sem[:, mode], G=G)\n",
      "        res = eig_newton_linear(Z, z_start, j_sem[:, mode], G=G)\n",
      "        j_eem[:, mode] = res['eigvec']\n",
      "        z_eem[freq_count, mode] = res['eigval']\n",
      "    \n",
      "\n",
      "    \n",
      "    for mode in xrange(num_modes):\n",
      "        extinction_sem[freq_count, mode] = np.vdot(V_tot, models_sem[mode].solve(s, V_tot))\n",
      "    \n"
     ],
     "language": "python",
     "metadata": {},
     "outputs": [],
     "prompt_number": ""
    },
    {
     "cell_type": "code",
     "collapsed": false,
     "input": [
      "figure(figsize=(12,4))\n",
      "subplot(121)\n",
      "#plot(freqs*1e-9, extinction_red.real)\n",
      "plot(freqs*1e-9, extinction_tot.real)\n",
      "plot(freqs*1e-9, np.sum(extinction_sem.real, axis=1))\n",
      "xlim(freqs[0]*1e-9, freqs[-1]*1e-9)\n",
      "xlabel('f (GHz)')\n",
      "subplot(122)\n",
      "#plot(freqs*1e-9, extinction_red.imag)\n",
      "plot(freqs*1e-9, extinction_tot.imag)\n",
      "plot(freqs*1e-9, np.sum(extinction_sem.imag, axis=1))\n",
      "xlim(freqs[0]*1e-9, freqs[-1]*1e-9)\n",
      "xlabel('f (GHz)');"
     ],
     "language": "python",
     "metadata": {},
     "outputs": [],
     "prompt_number": ""
    },
    {
     "cell_type": "code",
     "collapsed": false,
     "input": [
      "figure(figsize=(12,4))\n",
      "subplot(121)\n",
      "plot(freqs*1e-9, extinction_sem.real)\n",
      "xlim(freqs[0]*1e-9, freqs[-1]*1e-9)\n",
      "xlabel('f (GHz)')\n",
      "subplot(122)\n",
      "plot(freqs*1e-9, extinction_sem.imag)\n",
      "xlim(freqs[0]*1e-9, freqs[-1]*1e-9)\n",
      "xlabel('f (GHz)');"
     ],
     "language": "python",
     "metadata": {},
     "outputs": [],
     "prompt_number": ""
    },
    {
     "cell_type": "code",
     "collapsed": false,
     "input": [
      "figure(figsize=(12,4))\n",
      "subplot(121)\n",
      "plot(freqs*1e-9, z_eem.real)\n",
      "plot(freqs*1e-9, z_sem.real, 'x')\n",
      "xlim(freqs[0]*1e-9, freqs[-1]*1e-9)\n",
      "xlabel('f (GHz)')\n",
      "subplot(122)\n",
      "plot(freqs*1e-9, z_eem.imag)\n",
      "plot(freqs*1e-9, z_sem.imag, 'x')\n",
      "xlim(freqs[0]*1e-9, freqs[-1]*1e-9)\n",
      "xlabel('f (GHz)');"
     ],
     "language": "python",
     "metadata": {},
     "outputs": [],
     "prompt_number": ""
    },
    {
     "cell_type": "code",
     "collapsed": false,
     "input": [
      "y_sem = 1.0/z_sem\n",
      "y_eem = 1.0/z_eem\n",
      "\n",
      "figure(figsize=(12,4))\n",
      "subplot(121)\n",
      "plot(freqs*1e-9, y_eem.real)\n",
      "plot(freqs*1e-9, y_sem.real, 'x')\n",
      "xlim(freqs[0]*1e-9, freqs[-1]*1e-9)\n",
      "xlabel('f (GHz)')\n",
      "subplot(122)\n",
      "plot(freqs*1e-9, y_eem.imag)\n",
      "plot(freqs*1e-9, y_sem.imag, 'x')\n",
      "xlim(freqs[0]*1e-9, freqs[-1]*1e-9)\n",
      "xlabel('f (GHz)');"
     ],
     "language": "python",
     "metadata": {},
     "outputs": [],
     "prompt_number": ""
    }
   ],
   "metadata": {}
  }
 ]
}