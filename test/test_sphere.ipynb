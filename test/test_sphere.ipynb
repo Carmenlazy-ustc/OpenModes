{
 "metadata": {
  "name": ""
 },
 "nbformat": 3,
 "nbformat_minor": 0,
 "worksheets": [
  {
   "cells": [
    {
     "cell_type": "markdown",
     "metadata": {},
     "source": [
      "Calculate the eigencurrent expansion of a sphere.\n"
     ]
    },
    {
     "cell_type": "code",
     "collapsed": false,
     "input": [
      "%pylab inline\n",
      "\n",
      "import openmodes\n",
      "from openmodes.basis import get_basis_functions\n",
      "from openmodes.constants import c\n",
      "import os.path as osp"
     ],
     "language": "python",
     "metadata": {},
     "outputs": [],
     "prompt_number": ""
    },
    {
     "cell_type": "code",
     "collapsed": false,
     "input": [
      "\n",
      "sphere = openmodes.load_mesh(osp.join(openmodes.geometry_dir, \"sphere.geo\"), \n",
      "                          mesh_tol=0.2)\n",
      "\n",
      "sim = openmodes.Simulation(name=\"test sphere\")\n",
      "sim.logger.propagate = True\n",
      "sim.place_part(sphere)"
     ],
     "language": "python",
     "metadata": {},
     "outputs": [],
     "prompt_number": ""
    },
    {
     "cell_type": "heading",
     "level": 3,
     "metadata": {},
     "source": [
      "Check if degenerate modes are orthogonal"
     ]
    },
    {
     "cell_type": "code",
     "collapsed": false,
     "input": [
      "\n",
      "num_modes = 3\n",
      "\n",
      "s_start = 2j*np.pi*10e6\n",
      "mode_s, mode_j = sim.part_singularities(s_start, num_modes, use_gram=True)\n"
     ],
     "language": "python",
     "metadata": {},
     "outputs": []
    },
    {
     "cell_type": "code",
     "collapsed": false,
     "input": [
      "#sim.plot_solution([mode_j[0][:, 0]], 'mayavi')\n",
      "#sim.plot_solution([mode_j[0][:, 1]], 'mayavi')\n",
      "#sim.plot_solution([mode_j[0][:, 2]], 'mayavi')\n"
     ],
     "language": "python",
     "metadata": {},
     "outputs": []
    },
    {
     "cell_type": "code",
     "collapsed": false,
     "input": [
      "basis = get_basis_functions(sphere, sim.basis_class)\n",
      "G = basis.gram_matrix\n",
      "\n",
      "print \"magnitude of mode 0\"\n",
      "print mode_j[0][:, 0].dot(G.dot(mode_j[0][:, 0]))\n",
      "print \"overlap between modes\"\n",
      "print mode_j[0][:, 0].dot(G.dot(mode_j[0][:, 1]))\n",
      "print mode_j[0][:, 0].dot(G.dot(mode_j[0][:, 2]))\n",
      "print mode_j[0][:, 1].dot(G.dot(mode_j[0][:, 2]))"
     ],
     "language": "python",
     "metadata": {},
     "outputs": [],
     "prompt_number": ""
    },
    {
     "cell_type": "heading",
     "level": 3,
     "metadata": {},
     "source": [
      "Look at linearised problem"
     ]
    },
    {
     "cell_type": "code",
     "collapsed": false,
     "input": [
      "s_start = 2j*np.pi*10e6\n",
      "\n",
      "from openmodes.eig import eig_linearised\n",
      "\n",
      "Z = sim.impedance(s_start, sim.parts[0])\n",
      "\n",
      "lin_s, _ = eig_linearised(Z, -1)\n",
      "\n",
      "selected_s, _ = eig_linearised(Z, num_modes)"
     ],
     "language": "python",
     "metadata": {},
     "outputs": [],
     "prompt_number": ""
    },
    {
     "cell_type": "code",
     "collapsed": false,
     "input": [
      "# mesh 0.2\n",
      "freq_s = lin_s/2/pi\n",
      "selected_freq = selected_s/2/pi\n",
      "\n",
      "loglog(abs(freq_s.real), abs(freq_s.imag), 'x')\n",
      "loglog(abs(selected_freq.real), abs(selected_freq.imag), 'x')\n",
      "ylabel('$freq$')"
     ],
     "language": "python",
     "metadata": {},
     "outputs": [],
     "prompt_number": ""
    },
    {
     "cell_type": "code",
     "collapsed": false,
     "input": [
      "# mesh 0.5\n",
      "\n",
      "freq_s = lin_s/2/pi\n",
      "selected_freq = selected_s/2/pi\n",
      "\n",
      "loglog(abs(freq_s.real), abs(freq_s.imag), 'x')\n",
      "loglog(abs(selected_freq.real), abs(selected_freq.imag), 'x')\n",
      "ylabel('$freq$')"
     ],
     "language": "python",
     "metadata": {},
     "outputs": [],
     "prompt_number": ""
    },
    {
     "cell_type": "code",
     "collapsed": false,
     "input": [
      "num_modes = 9\n",
      "\n",
      "\n",
      "s_start = 2j*np.pi*10e6\n",
      "mode_s, mode_j = sim.part_singularities(s_start, num_modes, use_gram=True)\n",
      "\n",
      "models = sim.construct_models(mode_s, mode_j)[0]    "
     ],
     "language": "python",
     "metadata": {},
     "outputs": [],
     "prompt_number": ""
    },
    {
     "cell_type": "code",
     "collapsed": false,
     "input": [
      "num_freqs = 101\n",
      "freqs = np.linspace(1e6, 100e6, num_freqs)\n",
      "e_inc = np.array([1, 0, 0], dtype=np.complex128)\n",
      "k_hat = np.array([0, 1, 0], dtype=np.complex128)\n",
      "\n",
      "ext = np.empty(num_freqs, np.complex128)\n",
      "ext_sem = np.empty((num_freqs, num_modes), np.complex128)\n",
      "ext_eem = np.empty((num_freqs, num_modes), np.complex128)\n",
      "ext_eem_direct = np.empty((num_freqs, num_modes), np.complex128)\n",
      "\n",
      "z_sem = np.empty((num_freqs, num_modes), np.complex128)\n",
      "z_eem = np.empty((num_freqs, num_modes), np.complex128)\n",
      "z_eem_direct = np.empty((num_freqs, num_modes), np.complex128)\n",
      "\n",
      "for freq_count, freq in enumerate(freqs):\n",
      "    s = 2j*np.pi*freq\n",
      "    jk_0 = s/c\n",
      "\n",
      "    Z = sim.impedance(s)\n",
      "    V = sim.source_plane_wave(e_inc, jk_0*k_hat)\n",
      "        \n",
      "    ext[freq_count] = np.vdot(V[0], Z[0][0].solve(V[0]))\n",
      "    \n",
      "    #eem_z, eem_j = Z.eigenmodes(num_modes, use_gram=True, start_j=mode_j)\n",
      "    eem_z_d, eem_j_d = Z.eigenmodes(num_modes)\n",
      "    z_eem_direct[freq_count] = eem_z_d[0]\n",
      "    \n",
      "    for mode in xrange(num_modes):\n",
      "        #ext_eem[freq_count, mode] = np.vdot(V[0], eem_j[0][:, mode])*np.dot(V[0], eem_j[0][:, mode])/eem_z[0][mode]\n",
      "        ext_eem_direct[freq_count, mode] = np.vdot(V[0], eem_j_d[0][:, mode])*np.dot(V[0], eem_j_d[0][:, mode])/eem_z_d[0][mode]\n",
      "        \n",
      "        ext_sem[freq_count, mode] = np.vdot(V[0], models[mode].solve(s, V[0]))\n",
      "        z_sem[freq_count, mode] = models[mode].scalar_impedance(s)\n",
      "\n"
     ],
     "language": "python",
     "metadata": {},
     "outputs": [],
     "prompt_number": ""
    },
    {
     "cell_type": "code",
     "collapsed": false,
     "input": [
      "figure(figsize=(8, 5))\n",
      "subplot(121)\n",
      "plot(freqs*1e-6, ext_eem_direct.real)\n",
      "plot(freqs*1e-6, ext_sem.real, '--')\n",
      "subplot(122)\n",
      "plot(freqs*1e-6, ext_eem_direct.imag)\n",
      "plot(freqs*1e-6, ext_sem.imag, '--')\n",
      "suptitle('Modal extinction');"
     ],
     "language": "python",
     "metadata": {},
     "outputs": [],
     "prompt_number": ""
    },
    {
     "cell_type": "code",
     "collapsed": false,
     "input": [
      "plt.figure(figsize=(8, 5))\n",
      "plt.subplot(121)\n",
      "plt.plot(freqs*1e-6, ext.real)\n",
      "plt.plot(freqs*1e-6, np.sum(ext_sem.real, axis=1))\n",
      "#plt.plot(freqs*1e-6, np.sum(ext_eem_direct.real, axis=1))\n",
      "plt.subplot(122)\n",
      "plt.plot(freqs*1e-6, ext.imag)\n",
      "plt.plot(freqs*1e-6, np.sum(ext_sem.imag, axis=1))\n",
      "#plt.plot(freqs*1e-6, np.sum(ext_eem_direct.imag, axis=1))\n",
      "suptitle('Total extinction');"
     ],
     "language": "python",
     "metadata": {},
     "outputs": [],
     "prompt_number": ""
    },
    {
     "cell_type": "code",
     "collapsed": false,
     "input": [
      "plt.figure(figsize=(10, 5))\n",
      "plt.subplot(121)\n",
      "plt.plot(freqs*1e-6, z_sem.real)\n",
      "xlabel('f (MHz)')\n",
      "plt.subplot(122)\n",
      "semilogy(freqs*1e-6, abs(z_sem.imag))\n",
      "xlabel('f (MHz)')\n",
      "suptitle('Impedance of SEM modes');"
     ],
     "language": "python",
     "metadata": {},
     "outputs": [],
     "prompt_number": ""
    },
    {
     "cell_type": "code",
     "collapsed": false,
     "input": [
      "plt.figure(figsize=(10, 5))\n",
      "plt.subplot(121)\n",
      "plt.plot(freqs*1e-6, z_eem_direct.real)\n",
      "plt.subplot(122)\n",
      "#plt.plot(freqs*1e-6, z_eem_direct.imag)\n",
      "semilogy(freqs*1e-6, abs(z_eem_direct.imag))\n",
      "\n",
      "suptitle('Impedance of EEM modes');\n"
     ],
     "language": "python",
     "metadata": {},
     "outputs": [],
     "prompt_number": ""
    },
    {
     "cell_type": "code",
     "collapsed": false,
     "input": [
      "y_eem_direct = 1.0/z_eem_direct\n",
      "\n",
      "plt.figure(figsize=(10, 5))\n",
      "plt.subplot(121)\n",
      "plt.plot(freqs*1e-6, y_eem_direct.real)\n",
      "plt.subplot(122)\n",
      "plt.plot(freqs*1e-6, y_eem_direct.imag)\n",
      "suptitle('Admittance of EEM modes');"
     ],
     "language": "python",
     "metadata": {},
     "outputs": [],
     "prompt_number": ""
    },
    {
     "cell_type": "code",
     "collapsed": false,
     "input": [
      "#y_eem_direct = 1.0/z_eem_direct\n",
      "y_sem = 1.0/z_sem    \n",
      "\n",
      "plt.figure(figsize=(10, 5))\n",
      "plt.subplot(121)\n",
      "plt.plot(freqs*1e-6, y_eem_direct.real)\n",
      "#plt.plot(freqs*1e-9, z_modes.real, '--')\n",
      "plt.plot(freqs*1e-6, y_sem.real, '--')\n",
      "plt.subplot(122)\n",
      "#plt.semilogy(freqs*1e-9, abs(z_eem.imag), 'x')\n",
      "#plt.semilogy(freqs*1e-9, abs(z_sem.imag), '--')\n",
      "plt.plot(freqs*1e-6, y_eem_direct.imag)\n",
      "plt.plot(freqs*1e-6, y_sem.imag, '--')\n",
      "plt.show()"
     ],
     "language": "python",
     "metadata": {},
     "outputs": [],
     "prompt_number": ""
    }
   ],
   "metadata": {}
  }
 ]
}